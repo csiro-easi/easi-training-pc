{
 "cells": [
  {
   "cell_type": "markdown",
   "metadata": {},
   "source": [
    "# Getting Started\n",
    "\n",
    "**If you can read this you must have completed the CSIRO EASI Data Cube training environment on PC (easi-pc) installation. AWESOME!**\n",
    "\n",
    "In this notebook we'll show you how to initialise and populate the sample data into your local install of the easi-pc. Almost the exact same approach can be used for any Open Data Cube installation but if you are using a hosted version (e.g. CSIRO Data Cube on AWS) data management will be controlled by the central authority and it will almost certainly provide other methods for user and shared data. For now though, you are the authority for your local installation.\n",
    "\n",
    "## What we are about to do\n",
    "\n",
    "1. Learn some tips about using the easi-pc notebooks\n",
    "1. Initialise the database\n",
    "2. Add an Earth Observation data product description to the database\n",
    "3. Index some data in place without transformation\n",
    "4. Ingest some data - make a copy of the data and transform it to a compute ready form to save on repeated calculations (e.g. reprojection, tiling, different file layout)\n",
    "\n",
    "Along the way we will also learn some things about Docker and how to use it so you can save yourself from mistakes or save yourself some time. Keep an eye out for ___Docker tip:___. We'll also include ___Jupyter tip:___ and ___Play tip:___ along the way so you can have a better learning experience.\n",
    "\n",
    "___Play tip:___ _The sample data is relatively small and its quite simple (and fast) to rebuild the easi-pc environment if you make a mistake or want to experiment with other data of your own and want to restart._\n"
   ]
  },
  {
   "cell_type": "markdown",
   "metadata": {},
   "source": [
    "# Tips on using the easi-pc notebooks"
   ]
  },
  {
   "cell_type": "markdown",
   "metadata": {},
   "source": [
    "___Jupyter tip:___ _You will see some common cells in all the training notebooks, particularly at the start. These usually setup notebook related environment information which impact how things are displayed. This next one starting with % tells jupyter we'd like all matplot lib graphics to be placed inline in the notebook, not in a separate window. We won't describe these over and over and of course an internet search will find most of these very easily._"
   ]
  },
  {
   "cell_type": "code",
   "execution_count": 2,
   "metadata": {},
   "outputs": [],
   "source": [
    "%matplotlib inline"
   ]
  },
  {
   "cell_type": "markdown",
   "metadata": {},
   "source": [
    "Here's another example of some common code. This time its straight Python (no special characters at the start). We use `pandas.DataFrame` objects to display our tables, so we will set some pandas settings to tweak their formatting so they look nice in the notebook."
   ]
  },
  {
   "cell_type": "code",
   "execution_count": 3,
   "metadata": {},
   "outputs": [],
   "source": [
    "import pandas\n",
    "pandas.set_option('display.max_colwidth', 200)\n",
    "pandas.set_option('display.max_rows', None)"
   ]
  },
  {
   "cell_type": "markdown",
   "metadata": {},
   "source": [
    "One more example, by default python will display warnings in the output which display as red text in the output areas of the notebook. Most of these warnings are harmless unless you are developer (e.g. they are warning to let developers know a certain function is going to removed in the future and should be replaced by its new version). Whilst you can mostly just ignore the warning they can be repeated many times and clutter up the notebook display. Sometimes though things don't work and you want to turn the logging on so you can see what the error is and fix it.\n",
    "Thankfully you can show and hide errors in the notebook. In the tutorial notebooks you will find the cell that follows placed at the end of the notebook. If you execute the cell it will create a link you can press to toggle the error display for the entire notebook. You only need to run the cell once but there is no harm in running it multiple times."
   ]
  },
  {
   "cell_type": "code",
   "execution_count": 4,
   "metadata": {},
   "outputs": [
    {
     "data": {
      "text/html": [
       "<script>\n",
       "code_show_err=false; \n",
       "function code_toggle_err() {\n",
       " if (code_show_err){\n",
       " $('div.output_error').hide();\n",
       " $('div.output_stderr').hide();\n",
       " } else {\n",
       " $('div.output_error').show();\n",
       " $('div.output_stderr').show();\n",
       " }\n",
       " code_show_err = !code_show_err\n",
       "} \n",
       "$( document ).ready(code_toggle_err);\n",
       "</script>\n",
       "<form action=\"javascript:code_toggle_err()\"><input type=\"submit\" value=\"Click here to toggle on/off the error output.\"></form>"
      ],
      "text/plain": [
       "<IPython.core.display.HTML object>"
      ]
     },
     "execution_count": 4,
     "metadata": {},
     "output_type": "execute_result"
    }
   ],
   "source": [
    "from IPython.display import HTML\n",
    "\n",
    "HTML('''<script>\n",
    "code_show_err=false; \n",
    "function code_toggle_err() {\n",
    " if (code_show_err){\n",
    " $('div.output_error').hide();\n",
    " $('div.output_stderr').hide();\n",
    " } else {\n",
    " $('div.output_error').show();\n",
    " $('div.output_stderr').show();\n",
    " }\n",
    " code_show_err = !code_show_err\n",
    "} \n",
    "$( document ).ready(code_toggle_err);\n",
    "</script>\n",
    "<form action=\"javascript:code_toggle_err()\"><input type=\"submit\" value=\"Click here to toggle on/off the error output.\"></form>''')\n"
   ]
  },
  {
   "cell_type": "markdown",
   "metadata": {},
   "source": [
    "The cell below produces an error as the module isn't found. Execute the cell above so you can see the toggle button in the output then run the cell below. Click the Toggle button and you should see the error section show/hide."
   ]
  },
  {
   "cell_type": "code",
   "execution_count": 5,
   "metadata": {
    "scrolled": true
   },
   "outputs": [
    {
     "ename": "ModuleNotFoundError",
     "evalue": "No module named 'SomethingThatDoesntExistSoThereIsAnError'",
     "output_type": "error",
     "traceback": [
      "\u001b[0;31m\u001b[0m",
      "\u001b[0;31mModuleNotFoundError\u001b[0mTraceback (most recent call last)",
      "\u001b[0;32m<ipython-input-5-839f02eb06bc>\u001b[0m in \u001b[0;36m<module>\u001b[0;34m\u001b[0m\n\u001b[0;32m----> 1\u001b[0;31m \u001b[0;32mimport\u001b[0m \u001b[0mSomethingThatDoesntExistSoThereIsAnError\u001b[0m\u001b[0;34m\u001b[0m\u001b[0;34m\u001b[0m\u001b[0m\n\u001b[0m",
      "\u001b[0;31mModuleNotFoundError\u001b[0m: No module named 'SomethingThatDoesntExistSoThereIsAnError'"
     ]
    }
   ],
   "source": [
    "import SomethingThatDoesntExistSoThereIsAnError"
   ]
  },
  {
   "cell_type": "markdown",
   "metadata": {},
   "source": [
    "___Play tip:___ _This error suppresion code has nothing to do with the easi-pc. You can copy and paste that cell into any notebook you might have and reuse it_"
   ]
  },
  {
   "cell_type": "markdown",
   "metadata": {},
   "source": [
    "# Initialise the database"
   ]
  },
  {
   "cell_type": "markdown",
   "metadata": {},
   "source": [
    "When you first install the ODC docker images the database is completely blank and requires:\n",
    "1. An ODC database schema to be initialise\n",
    "1. EO product information (metadata) to be added that describe the EO data attributes. There are multiple of these dependent on our data sources\n",
    "1. An index of the actual EO data\n",
    "\n",
    "The ODC contains a set of command line utilities for initialising the database. First lets check to see what state the database is in and if we can connect to it:\n",
    "\n",
    "___Jupyter tip:___ _You can execute a command line program from a Jupyter cell by proceeding with the ! mark. To do this on an actual command line you would remove the ! mark._\n"
   ]
  },
  {
   "cell_type": "code",
   "execution_count": 8,
   "metadata": {},
   "outputs": [
    {
     "name": "stdout",
     "output_type": "stream",
     "text": [
      "fatal: not a git repository: /home/jovyan/odc/../.git/modules/datacube-core\n",
      "/home/jovyan/.local/lib/python3.6/site-packages/psycopg2/__init__.py:144: UserWarning: The psycopg2 wheel package will be renamed from release 2.8; in order to keep installing from binary please use \"pip install psycopg2-binary\" instead. For details see: <http://initd.org/psycopg/docs/install.html#binary-install-from-pypi>.\n",
      "  \"\"\")\n",
      "Version:       \u001b[1m0+unknown\u001b[0m\n",
      "Config files:  \u001b[1m/home/jovyan/.datacube.conf\u001b[0m\n",
      "Host:          \u001b[1mpostgres:5432\u001b[0m\n",
      "Database:      \u001b[1modc\u001b[0m\n",
      "User:          \u001b[1modc\u001b[0m\n",
      "Environment:   \u001b[1mNone\u001b[0m\n",
      "Index Driver:  \u001b[1mdefault\u001b[0m\n",
      "\n",
      "Valid connection:\t\u001b[1mYES\u001b[0m\n"
     ]
    }
   ],
   "source": [
    "!datacube system check"
   ]
  },
  {
   "cell_type": "markdown",
   "metadata": {},
   "source": []
  },
  {
   "cell_type": "code",
   "execution_count": 7,
   "metadata": {},
   "outputs": [
    {
     "name": "stdout",
     "output_type": "stream",
     "text": [
      "fatal: not a git repository: /home/jovyan/odc/../.git/modules/datacube-core\n",
      "/home/jovyan/.local/lib/python3.6/site-packages/psycopg2/__init__.py:144: UserWarning: The psycopg2 wheel package will be renamed from release 2.8; in order to keep installing from binary please use \"pip install psycopg2-binary\" instead. For details see: <http://initd.org/psycopg/docs/install.html#binary-install-from-pypi>.\n",
      "  \"\"\")\n",
      "Initialising database...\n",
      "\u001b[1mCreated.\u001b[0m\n",
      "Checking indexes/views.\n",
      "Done.\n"
     ]
    }
   ],
   "source": [
    "!datacube system init"
   ]
  },
  {
   "cell_type": "markdown",
   "metadata": {},
   "source": [
    "# Add a product definition for Landsat data from USGS"
   ]
  },
  {
   "cell_type": "code",
   "execution_count": 10,
   "metadata": {},
   "outputs": [
    {
     "name": "stdout",
     "output_type": "stream",
     "text": [
      "fatal: not a git repository: /home/jovyan/odc/../.git/modules/datacube-core\n",
      "/home/jovyan/.local/lib/python3.6/site-packages/psycopg2/__init__.py:144: UserWarning: The psycopg2 wheel package will be renamed from release 2.8; in order to keep installing from binary please use \"pip install psycopg2-binary\" instead. For details see: <http://initd.org/psycopg/docs/install.html#binary-install-from-pypi>.\n",
      "  \"\"\")\n",
      "Added \"ls8_usgs_sr_scene\"\n"
     ]
    }
   ],
   "source": [
    "!datacube product add ~/work/data-pipelines/landsat-usgs/ls8_usgs_sr_scene.yaml"
   ]
  },
  {
   "cell_type": "markdown",
   "metadata": {},
   "source": [
    "Verify the product definition loaded correctly. We'll look into what this code does later but for now you when it is run you should see a neat little table and the name of the product we just added. Then the next cell will display the measurements that it supports"
   ]
  },
  {
   "cell_type": "code",
   "execution_count": 11,
   "metadata": {},
   "outputs": [
    {
     "name": "stderr",
     "output_type": "stream",
     "text": [
      "/home/jovyan/.local/lib/python3.6/site-packages/psycopg2/__init__.py:144: UserWarning: The psycopg2 wheel package will be renamed from release 2.8; in order to keep installing from binary please use \"pip install psycopg2-binary\" instead. For details see: <http://initd.org/psycopg/docs/install.html#binary-install-from-pypi>.\n",
      "  \"\"\")\n"
     ]
    },
    {
     "data": {
      "text/html": [
       "<div>\n",
       "<style scoped>\n",
       "    .dataframe tbody tr th:only-of-type {\n",
       "        vertical-align: middle;\n",
       "    }\n",
       "\n",
       "    .dataframe tbody tr th {\n",
       "        vertical-align: top;\n",
       "    }\n",
       "\n",
       "    .dataframe thead th {\n",
       "        text-align: right;\n",
       "    }\n",
       "</style>\n",
       "<table border=\"1\" class=\"dataframe\">\n",
       "  <thead>\n",
       "    <tr style=\"text-align: right;\">\n",
       "      <th></th>\n",
       "      <th>name</th>\n",
       "      <th>description</th>\n",
       "      <th>platform</th>\n",
       "      <th>instrument</th>\n",
       "      <th>crs</th>\n",
       "      <th>resolution</th>\n",
       "    </tr>\n",
       "    <tr>\n",
       "      <th>id</th>\n",
       "      <th></th>\n",
       "      <th></th>\n",
       "      <th></th>\n",
       "      <th></th>\n",
       "      <th></th>\n",
       "      <th></th>\n",
       "    </tr>\n",
       "  </thead>\n",
       "  <tbody>\n",
       "    <tr>\n",
       "      <th>1</th>\n",
       "      <td>ls8_usgs_sr_scene</td>\n",
       "      <td>Landsat 8 USGS Collection 1 Higher Level SR scene proessed using LaSRC. 30m UTM based projection.</td>\n",
       "      <td>LANDSAT_8</td>\n",
       "      <td>OLI_TIRS</td>\n",
       "      <td>NaN</td>\n",
       "      <td>NaN</td>\n",
       "    </tr>\n",
       "  </tbody>\n",
       "</table>\n",
       "</div>"
      ],
      "text/plain": [
       "                 name  \\\n",
       "id                      \n",
       "1   ls8_usgs_sr_scene   \n",
       "\n",
       "                                                                                          description  \\\n",
       "id                                                                                                      \n",
       "1   Landsat 8 USGS Collection 1 Higher Level SR scene proessed using LaSRC. 30m UTM based projection.   \n",
       "\n",
       "     platform instrument  crs  resolution  \n",
       "id                                         \n",
       "1   LANDSAT_8   OLI_TIRS  NaN         NaN  "
      ]
     },
     "execution_count": 11,
     "metadata": {},
     "output_type": "execute_result"
    }
   ],
   "source": [
    "# A jupyter magic to ensure out matploblib displays are inline in the notebook\n",
    "%matplotlib inline\n",
    "# Import pandas and set some parameters so the cells display nicely in our notebook\n",
    "import pandas\n",
    "pandas.set_option('display.max_colwidth', 200)\n",
    "pandas.set_option('display.max_rows', None)\n",
    "\n",
    "import datacube\n",
    "dc = datacube.Datacube()\n",
    "products = dc.list_products()\n",
    "\n",
    "display_columns = ['name', 'description', 'platform', 'instrument', 'crs', 'resolution']\n",
    "\n",
    "products[display_columns]"
   ]
  },
  {
   "cell_type": "code",
   "execution_count": 12,
   "metadata": {},
   "outputs": [
    {
     "data": {
      "text/html": [
       "<div>\n",
       "<style scoped>\n",
       "    .dataframe tbody tr th:only-of-type {\n",
       "        vertical-align: middle;\n",
       "    }\n",
       "\n",
       "    .dataframe tbody tr th {\n",
       "        vertical-align: top;\n",
       "    }\n",
       "\n",
       "    .dataframe thead th {\n",
       "        text-align: right;\n",
       "    }\n",
       "</style>\n",
       "<table border=\"1\" class=\"dataframe\">\n",
       "  <thead>\n",
       "    <tr style=\"text-align: right;\">\n",
       "      <th></th>\n",
       "      <th></th>\n",
       "      <th>units</th>\n",
       "      <th>nodata</th>\n",
       "      <th>aliases</th>\n",
       "    </tr>\n",
       "    <tr>\n",
       "      <th>product</th>\n",
       "      <th>measurement</th>\n",
       "      <th></th>\n",
       "      <th></th>\n",
       "      <th></th>\n",
       "    </tr>\n",
       "  </thead>\n",
       "  <tbody>\n",
       "    <tr>\n",
       "      <th rowspan=\"10\" valign=\"top\">ls8_usgs_sr_scene</th>\n",
       "      <th>coastal_aerosol</th>\n",
       "      <td>reflectance</td>\n",
       "      <td>-9999</td>\n",
       "      <td>[band_1, sr_band1]</td>\n",
       "    </tr>\n",
       "    <tr>\n",
       "      <th>blue</th>\n",
       "      <td>reflectance</td>\n",
       "      <td>-9999</td>\n",
       "      <td>[band_2, sr_band2]</td>\n",
       "    </tr>\n",
       "    <tr>\n",
       "      <th>green</th>\n",
       "      <td>reflectance</td>\n",
       "      <td>-9999</td>\n",
       "      <td>[band_3, sr_band3]</td>\n",
       "    </tr>\n",
       "    <tr>\n",
       "      <th>red</th>\n",
       "      <td>reflectance</td>\n",
       "      <td>-9999</td>\n",
       "      <td>[band_4, sr_band4]</td>\n",
       "    </tr>\n",
       "    <tr>\n",
       "      <th>nir</th>\n",
       "      <td>reflectance</td>\n",
       "      <td>-9999</td>\n",
       "      <td>[band_5, sr_band5]</td>\n",
       "    </tr>\n",
       "    <tr>\n",
       "      <th>swir1</th>\n",
       "      <td>reflectance</td>\n",
       "      <td>-9999</td>\n",
       "      <td>[band_6, sr_band6]</td>\n",
       "    </tr>\n",
       "    <tr>\n",
       "      <th>swir2</th>\n",
       "      <td>reflectance</td>\n",
       "      <td>-9999</td>\n",
       "      <td>[band_7, sr_band7]</td>\n",
       "    </tr>\n",
       "    <tr>\n",
       "      <th>pixel_qa</th>\n",
       "      <td>bit_index</td>\n",
       "      <td>1</td>\n",
       "      <td>[pixel_qa]</td>\n",
       "    </tr>\n",
       "    <tr>\n",
       "      <th>sr_aerosol</th>\n",
       "      <td>bit_index</td>\n",
       "      <td>0</td>\n",
       "      <td>[sr_aerosol_qa, aerosol_qa, aerosol]</td>\n",
       "    </tr>\n",
       "    <tr>\n",
       "      <th>radsat_qa</th>\n",
       "      <td>bit_index</td>\n",
       "      <td>1</td>\n",
       "      <td>[radsat_qa]</td>\n",
       "    </tr>\n",
       "  </tbody>\n",
       "</table>\n",
       "</div>"
      ],
      "text/plain": [
       "                                         units  nodata  \\\n",
       "product           measurement                            \n",
       "ls8_usgs_sr_scene coastal_aerosol  reflectance   -9999   \n",
       "                  blue             reflectance   -9999   \n",
       "                  green            reflectance   -9999   \n",
       "                  red              reflectance   -9999   \n",
       "                  nir              reflectance   -9999   \n",
       "                  swir1            reflectance   -9999   \n",
       "                  swir2            reflectance   -9999   \n",
       "                  pixel_qa           bit_index       1   \n",
       "                  sr_aerosol         bit_index       0   \n",
       "                  radsat_qa          bit_index       1   \n",
       "\n",
       "                                                                aliases  \n",
       "product           measurement                                            \n",
       "ls8_usgs_sr_scene coastal_aerosol                    [band_1, sr_band1]  \n",
       "                  blue                               [band_2, sr_band2]  \n",
       "                  green                              [band_3, sr_band3]  \n",
       "                  red                                [band_4, sr_band4]  \n",
       "                  nir                                [band_5, sr_band5]  \n",
       "                  swir1                              [band_6, sr_band6]  \n",
       "                  swir2                              [band_7, sr_band7]  \n",
       "                  pixel_qa                                   [pixel_qa]  \n",
       "                  sr_aerosol       [sr_aerosol_qa, aerosol_qa, aerosol]  \n",
       "                  radsat_qa                                 [radsat_qa]  "
      ]
     },
     "execution_count": 12,
     "metadata": {},
     "output_type": "execute_result"
    }
   ],
   "source": [
    "# Get the measurements\n",
    "measurements = dc.list_measurements()\n",
    "# We can restrict which measurement attributes are displayed to reduce clutter\n",
    "display_columns = ['units', 'nodata', 'aliases']\n",
    "measurements[display_columns]"
   ]
  },
  {
   "cell_type": "markdown",
   "metadata": {},
   "source": [
    "# Index some data\n",
    "\n",
    "First, lets check to see if you have the data in the right place. If the data is already unpacked you should see a list of directories (each line begins with drwx...)\n",
    "\n"
   ]
  },
  {
   "cell_type": "code",
   "execution_count": 10,
   "metadata": {},
   "outputs": [],
   "source": [
    "# TODO: Should we keep the tar file somewhere on make it part of the repo or ??\n",
    "# TODO: May need to untar it in this cell if it is simply mounted"
   ]
  },
  {
   "cell_type": "code",
   "execution_count": 13,
   "metadata": {
    "scrolled": true
   },
   "outputs": [
    {
     "name": "stdout",
     "output_type": "stream",
     "text": [
      "total 360\r\n",
      "drwxrwxrwx 2 root root  81920 Nov 16 02:18 .\r\n",
      "drwxrwxrwx 2 root root      0 Nov 15 23:12 ..\r\n",
      "drwxrwxrwx 2 root root      0 Oct  9 01:37 LC080900842017090401T1-SC20180921064929\r\n",
      "drwxrwxrwx 2 root root      0 Oct  9 01:37 LC080900842017092001T1-SC20180921064913\r\n",
      "drwxrwxrwx 2 root root      0 Oct  9 01:38 LC080900842017100601T1-SC20180921064103\r\n",
      "drwxrwxrwx 2 root root      0 Oct  9 01:38 LC080900842017102201T1-SC20180921063749\r\n",
      "drwxrwxrwx 2 root root      0 Oct  9 01:38 LC080900842017110701T1-SC20180921070114\r\n",
      "drwxrwxrwx 2 root root      0 Oct  9 01:38 LC080900842017112301T1-SC20180921063818\r\n",
      "drwxrwxrwx 2 root root      0 Oct  9 01:38 LC080900842017120901T1-SC20180921063946\r\n",
      "drwxrwxrwx 2 root root      0 Oct  9 01:39 LC080900842017122501T1-SC20180921065232\r\n",
      "drwxrwxrwx 2 root root      0 Oct  9 01:39 LC080900842018011001T1-SC20180921063935\r\n",
      "drwxrwxrwx 2 root root      0 Oct  9 01:39 LC080900842018012601T1-SC20180921083645\r\n",
      "drwxrwxrwx 2 root root      0 Oct  9 01:39 LC080900842018021101T1-SC20180921063825\r\n",
      "drwxrwxrwx 2 root root      0 Oct  9 01:39 LC080900842018022701T1-SC20180921065555\r\n",
      "drwxrwxrwx 2 root root      0 Oct  9 01:39 LC080900842018031501T1-SC20180921063741\r\n",
      "drwxrwxrwx 2 root root      0 Oct  9 01:40 LC080900842018033101T1-SC20180921065811\r\n",
      "drwxrwxrwx 2 root root      0 Oct  9 01:40 LC080900842018041601T1-SC20180921064012\r\n",
      "drwxrwxrwx 2 root root      0 Oct  9 01:40 LC080900842018050201T1-SC20180921064319\r\n",
      "drwxrwxrwx 2 root root      0 Oct  9 01:40 LC080900842018051801T1-SC20180921063636\r\n",
      "drwxrwxrwx 2 root root      0 Oct  9 01:40 LC080900842018060301T1-SC20180921070014\r\n",
      "drwxrwxrwx 2 root root      0 Oct  9 01:41 LC080900842018061901T1-SC20180921065427\r\n",
      "drwxrwxrwx 2 root root      0 Oct  9 01:41 LC080900842018070501T1-SC20180921064325\r\n",
      "drwxrwxrwx 2 root root      0 Oct  9 01:41 LC080900842018072101T1-SC20180921064115\r\n",
      "drwxrwxrwx 2 root root      0 Oct  9 01:41 LC080900842018080601T1-SC20180921063746\r\n",
      "drwxrwxrwx 2 root root      0 Oct  9 01:41 LC080900842018082201T1-SC20180921063704\r\n",
      "drwxrwxrwx 2 root root      0 Oct  9 01:42 LC080900842018090701T2-SC20180921063644\r\n",
      "drwxrwxrwx 2 root root      0 Oct  9 01:42 LC080900852017090401T1-SC20180921080201\r\n",
      "drwxrwxrwx 2 root root      0 Oct  9 01:42 LC080900852017092001T1-SC20180921064759\r\n",
      "drwxrwxrwx 2 root root      0 Oct  9 01:42 LC080900852017100601T1-SC20180921065203\r\n",
      "drwxrwxrwx 2 root root      0 Oct  9 01:42 LC080900852017102201T1-SC20180921064040\r\n",
      "drwxrwxrwx 2 root root      0 Oct  9 01:43 LC080900852017110701T1-SC20180921064022\r\n",
      "drwxrwxrwx 2 root root      0 Oct  9 01:43 LC080900852017112301T1-SC20180921063836\r\n",
      "drwxrwxrwx 2 root root      0 Oct  9 01:43 LC080900852017120901T1-SC20180921064538\r\n",
      "drwxrwxrwx 2 root root      0 Oct  9 01:43 LC080900852017122501T1-SC20180921074100\r\n",
      "drwxrwxrwx 2 root root      0 Oct  9 01:43 LC080900852018011001T1-SC20180921065203\r\n",
      "drwxrwxrwx 2 root root      0 Oct  9 01:44 LC080900852018012601T1-SC20180921063703\r\n",
      "drwxrwxrwx 2 root root      0 Oct  9 01:44 LC080900852018021101T1-SC20180921063758\r\n",
      "drwxrwxrwx 2 root root      0 Oct  9 01:44 LC080900852018022701T1-SC20180921065127\r\n",
      "drwxrwxrwx 2 root root      0 Oct  9 01:44 LC080900852018031501T1-SC20180921063741\r\n",
      "drwxrwxrwx 2 root root      0 Oct  9 01:44 LC080900852018033101T1-SC20180921063859\r\n",
      "drwxrwxrwx 2 root root      0 Oct  9 01:44 LC080900852018041601T1-SC20180921063932\r\n",
      "drwxrwxrwx 2 root root      0 Oct  9 01:45 LC080900852018050201T1-SC20180921064030\r\n",
      "drwxrwxrwx 2 root root      0 Oct  9 01:45 LC080900852018051801T1-SC20180921063710\r\n",
      "drwxrwxrwx 2 root root      0 Oct  9 01:45 LC080900852018060301T1-SC20180921063754\r\n",
      "drwxrwxrwx 2 root root      0 Oct  9 01:45 LC080900852018061901T1-SC20180921075944\r\n",
      "drwxrwxrwx 2 root root      0 Oct  9 01:45 LC080900852018070501T1-SC20180921063618\r\n",
      "drwxrwxrwx 2 root root      0 Oct  9 01:46 LC080900852018072101T1-SC20180921064233\r\n",
      "drwxrwxrwx 2 root root      0 Oct  9 01:46 LC080900852018080601T1-SC20180921063818\r\n",
      "drwxrwxrwx 2 root root      0 Oct  9 01:46 LC080900852018082201T1-SC20180921063636\r\n",
      "drwxrwxrwx 2 root root      0 Oct  9 01:46 LC080900852018090701T1-SC20180921063706\r\n",
      "drwxrwxrwx 2 root root      0 Oct  9 01:46 LC080910842017091101T1-SC20180921064953\r\n",
      "drwxrwxrwx 2 root root      0 Oct  9 01:47 LC080910842017092701T1-SC20180921082808\r\n",
      "drwxrwxrwx 2 root root      0 Oct  9 01:47 LC080910842017101301T1-SC20180921064131\r\n",
      "drwxrwxrwx 2 root root      0 Oct  9 01:47 LC080910842017102901T1-SC20180921063854\r\n",
      "drwxrwxrwx 2 root root      0 Oct  9 01:47 LC080910842017111401T1-SC20180921063919\r\n",
      "drwxrwxrwx 2 root root      0 Oct  9 01:47 LC080910842017113001T1-SC20180921063724\r\n",
      "drwxrwxrwx 2 root root      0 Oct  9 01:47 LC080910842017121601T1-SC20180921064935\r\n",
      "drwxrwxrwx 2 root root      0 Oct  9 01:48 LC080910842018010101T1-SC20180921064632\r\n",
      "drwxrwxrwx 2 root root      0 Oct  9 01:48 LC080910842018011701T1-SC20180921064053\r\n",
      "drwxrwxrwx 2 root root      0 Oct  9 01:48 LC080910842018020201T1-SC20180921064813\r\n",
      "drwxrwxrwx 2 root root      0 Oct  9 01:48 LC080910842018021801T1-SC20180921064040\r\n",
      "drwxrwxrwx 2 root root      0 Oct  9 01:48 LC080910842018030601T1-SC20180921074604\r\n",
      "drwxrwxrwx 2 root root      0 Oct  9 01:49 LC080910842018032201T1-SC20180921080527\r\n",
      "drwxrwxrwx 2 root root      0 Oct  9 01:49 LC080910842018040701T1-SC20180921063830\r\n",
      "drwxrwxrwx 2 root root      0 Oct  9 01:49 LC080910842018042301T1-SC20180921070117\r\n",
      "drwxrwxrwx 2 root root      0 Oct  9 01:49 LC080910842018050901T1-SC20180921065810\r\n",
      "drwxrwxrwx 2 root root      0 Oct  9 01:49 LC080910842018052501T1-SC20180921064758\r\n",
      "drwxrwxrwx 2 root root      0 Oct  9 01:50 LC080910842018061001T1-SC20180921070530\r\n",
      "drwxrwxrwx 2 root root      0 Oct  9 01:50 LC080910842018062601T1-SC20180921063745\r\n",
      "drwxrwxrwx 2 root root      0 Oct  9 01:50 LC080910842018071201T1-SC20180921064853\r\n",
      "drwxrwxrwx 2 root root      0 Oct  9 01:50 LC080910842018072801T1-SC20180921082214\r\n",
      "drwxrwxrwx 2 root root      0 Oct  9 01:50 LC080910842018081301T1-SC20180921063855\r\n",
      "drwxrwxrwx 2 root root      0 Oct  9 01:51 LC080910842018082901T1-SC20180921064624\r\n",
      "drwxrwxrwx 2 root root      0 Oct  9 01:51 LC080910842018091401RT-SC20180921070249\r\n",
      "drwxrwxrwx 2 root root      0 Oct  9 01:51 LC080910852017091101T1-SC20180921065115\r\n",
      "drwxrwxrwx 2 root root      0 Oct  9 01:51 LC080910852017092701T1-SC20180921070319\r\n",
      "drwxrwxrwx 2 root root      0 Oct  9 01:51 LC080910852017101301T1-SC20180921063808\r\n",
      "drwxrwxrwx 2 root root      0 Oct  9 01:52 LC080910852017102901T1-SC20180921064105\r\n",
      "drwxrwxrwx 2 root root      0 Oct  9 01:52 LC080910852017111401T1-SC20180921081423\r\n",
      "drwxrwxrwx 2 root root      0 Oct  9 01:52 LC080910852017113001T1-SC20180921080249\r\n",
      "drwxrwxrwx 2 root root      0 Oct  9 01:52 LC080910852017121601T1-SC20180921063903\r\n",
      "drwxrwxrwx 2 root root      0 Oct  9 01:52 LC080910852018010101T1-SC20180921065722\r\n",
      "drwxrwxrwx 2 root root      0 Oct  9 01:53 LC080910852018011701T1-SC20180921082843\r\n",
      "drwxrwxrwx 2 root root      0 Oct  9 01:53 LC080910852018020201T1-SC20180921063931\r\n",
      "drwxrwxrwx 2 root root      0 Oct  9 01:53 LC080910852018021801T2-SC20180921065021\r\n",
      "drwxrwxrwx 2 root root      0 Oct  9 01:53 LC080910852018030601T1-SC20180921065453\r\n",
      "drwxrwxrwx 2 root root      0 Oct  9 01:53 LC080910852018032201T1-SC20180921080030\r\n",
      "drwxrwxrwx 2 root root      0 Oct  9 01:54 LC080910852018040701T1-SC20180921065834\r\n",
      "drwxrwxrwx 2 root root      0 Oct  9 01:54 LC080910852018042301T1-SC20180921064130\r\n",
      "drwxrwxrwx 2 root root      0 Oct  9 01:54 LC080910852018050901T1-SC20180921063546\r\n",
      "drwxrwxrwx 2 root root      0 Oct  9 01:54 LC080910852018052501T1-SC20180921065244\r\n",
      "drwxrwxrwx 2 root root      0 Oct  9 01:54 LC080910852018061001T1-SC20180921063749\r\n",
      "drwxrwxrwx 2 root root      0 Oct  9 01:55 LC080910852018062601T1-SC20180921074001\r\n",
      "drwxrwxrwx 2 root root      0 Oct  9 01:55 LC080910852018071201T1-SC20180921064154\r\n",
      "drwxrwxrwx 2 root root      0 Oct  9 01:55 LC080910852018072801T1-SC20180921064927\r\n",
      "drwxrwxrwx 2 root root      0 Oct  9 01:55 LC080910852018081301T1-SC20180921063806\r\n",
      "drwxrwxrwx 2 root root      0 Oct  9 01:55 LC080910852018082901T1-SC20180921064858\r\n",
      "drwxrwxrwx 2 root root      0 Oct  9 01:56 LC080910852018091401RT-SC20180921063728\r\n",
      "-rwxr-xr-x 1 root root 283415 Nov 16 02:18 ls8_usgs_sr.yaml\r\n"
     ]
    }
   ],
   "source": [
    "!ls -al /data/ls8_USGS_ESPA_data/\n"
   ]
  },
  {
   "cell_type": "markdown",
   "metadata": {},
   "source": [
    "Now we run prepare script which will go through all the directories and their content gathering up all the metadata required for the datacube index and verifying everything is as it should be"
   ]
  },
  {
   "cell_type": "code",
   "execution_count": 14,
   "metadata": {},
   "outputs": [
    {
     "name": "stdout",
     "output_type": "stream",
     "text": [
      "2018-11-20 04:35:05,620 INFO Processing /data/ls8_USGS_ESPA_data/LC080900842017090401T1-SC20180921064929\n",
      "2018-11-20 04:35:05,680 INFO Writing /data/ls8_USGS_ESPA_data/ls8_usgs_sr.yaml\n",
      "2018-11-20 04:35:05,680 INFO Processing /data/ls8_USGS_ESPA_data/LC080900842017092001T1-SC20180921064913\n",
      "2018-11-20 04:35:05,714 INFO Writing /data/ls8_USGS_ESPA_data/ls8_usgs_sr.yaml\n",
      "2018-11-20 04:35:05,714 INFO Processing /data/ls8_USGS_ESPA_data/LC080900842017100601T1-SC20180921064103\n",
      "2018-11-20 04:35:05,748 INFO Writing /data/ls8_USGS_ESPA_data/ls8_usgs_sr.yaml\n",
      "2018-11-20 04:35:05,749 INFO Processing /data/ls8_USGS_ESPA_data/LC080900842017102201T1-SC20180921063749\n",
      "2018-11-20 04:35:05,796 INFO Writing /data/ls8_USGS_ESPA_data/ls8_usgs_sr.yaml\n",
      "2018-11-20 04:35:05,796 INFO Processing /data/ls8_USGS_ESPA_data/LC080900842017110701T1-SC20180921070114\n",
      "2018-11-20 04:35:05,834 INFO Writing /data/ls8_USGS_ESPA_data/ls8_usgs_sr.yaml\n",
      "2018-11-20 04:35:05,834 INFO Processing /data/ls8_USGS_ESPA_data/LC080900842017112301T1-SC20180921063818\n",
      "2018-11-20 04:35:05,873 INFO Writing /data/ls8_USGS_ESPA_data/ls8_usgs_sr.yaml\n",
      "2018-11-20 04:35:05,874 INFO Processing /data/ls8_USGS_ESPA_data/LC080900842017120901T1-SC20180921063946\n",
      "2018-11-20 04:35:05,916 INFO Writing /data/ls8_USGS_ESPA_data/ls8_usgs_sr.yaml\n",
      "2018-11-20 04:35:05,916 INFO Processing /data/ls8_USGS_ESPA_data/LC080900842017122501T1-SC20180921065232\n",
      "2018-11-20 04:35:05,953 INFO Writing /data/ls8_USGS_ESPA_data/ls8_usgs_sr.yaml\n",
      "2018-11-20 04:35:05,954 INFO Processing /data/ls8_USGS_ESPA_data/LC080900842018011001T1-SC20180921063935\n",
      "2018-11-20 04:35:05,989 INFO Writing /data/ls8_USGS_ESPA_data/ls8_usgs_sr.yaml\n",
      "2018-11-20 04:35:05,989 INFO Processing /data/ls8_USGS_ESPA_data/LC080900842018012601T1-SC20180921083645\n",
      "2018-11-20 04:35:06,027 INFO Writing /data/ls8_USGS_ESPA_data/ls8_usgs_sr.yaml\n",
      "2018-11-20 04:35:06,027 INFO Processing /data/ls8_USGS_ESPA_data/LC080900842018021101T1-SC20180921063825\n",
      "2018-11-20 04:35:06,068 INFO Writing /data/ls8_USGS_ESPA_data/ls8_usgs_sr.yaml\n",
      "2018-11-20 04:35:06,068 INFO Processing /data/ls8_USGS_ESPA_data/LC080900842018022701T1-SC20180921065555\n",
      "2018-11-20 04:35:06,107 INFO Writing /data/ls8_USGS_ESPA_data/ls8_usgs_sr.yaml\n",
      "2018-11-20 04:35:06,107 INFO Processing /data/ls8_USGS_ESPA_data/LC080900842018031501T1-SC20180921063741\n",
      "2018-11-20 04:35:06,144 INFO Writing /data/ls8_USGS_ESPA_data/ls8_usgs_sr.yaml\n",
      "2018-11-20 04:35:06,145 INFO Processing /data/ls8_USGS_ESPA_data/LC080900842018033101T1-SC20180921065811\n",
      "2018-11-20 04:35:06,183 INFO Writing /data/ls8_USGS_ESPA_data/ls8_usgs_sr.yaml\n",
      "2018-11-20 04:35:06,183 INFO Processing /data/ls8_USGS_ESPA_data/LC080900842018041601T1-SC20180921064012\n",
      "2018-11-20 04:35:06,225 INFO Writing /data/ls8_USGS_ESPA_data/ls8_usgs_sr.yaml\n",
      "2018-11-20 04:35:06,225 INFO Processing /data/ls8_USGS_ESPA_data/LC080900842018050201T1-SC20180921064319\n",
      "2018-11-20 04:35:06,263 INFO Writing /data/ls8_USGS_ESPA_data/ls8_usgs_sr.yaml\n",
      "2018-11-20 04:35:06,263 INFO Processing /data/ls8_USGS_ESPA_data/LC080900842018051801T1-SC20180921063636\n",
      "2018-11-20 04:35:06,306 INFO Writing /data/ls8_USGS_ESPA_data/ls8_usgs_sr.yaml\n",
      "2018-11-20 04:35:06,307 INFO Processing /data/ls8_USGS_ESPA_data/LC080900842018060301T1-SC20180921070014\n",
      "2018-11-20 04:35:06,343 INFO Writing /data/ls8_USGS_ESPA_data/ls8_usgs_sr.yaml\n",
      "2018-11-20 04:35:06,343 INFO Processing /data/ls8_USGS_ESPA_data/LC080900842018061901T1-SC20180921065427\n",
      "2018-11-20 04:35:06,386 INFO Writing /data/ls8_USGS_ESPA_data/ls8_usgs_sr.yaml\n",
      "2018-11-20 04:35:06,386 INFO Processing /data/ls8_USGS_ESPA_data/LC080900842018070501T1-SC20180921064325\n",
      "2018-11-20 04:35:06,426 INFO Writing /data/ls8_USGS_ESPA_data/ls8_usgs_sr.yaml\n",
      "2018-11-20 04:35:06,426 INFO Processing /data/ls8_USGS_ESPA_data/LC080900842018072101T1-SC20180921064115\n",
      "2018-11-20 04:35:06,469 INFO Writing /data/ls8_USGS_ESPA_data/ls8_usgs_sr.yaml\n",
      "2018-11-20 04:35:06,469 INFO Processing /data/ls8_USGS_ESPA_data/LC080900842018080601T1-SC20180921063746\n",
      "2018-11-20 04:35:06,516 INFO Writing /data/ls8_USGS_ESPA_data/ls8_usgs_sr.yaml\n",
      "2018-11-20 04:35:06,516 INFO Processing /data/ls8_USGS_ESPA_data/LC080900842018082201T1-SC20180921063704\n",
      "2018-11-20 04:35:06,559 INFO Writing /data/ls8_USGS_ESPA_data/ls8_usgs_sr.yaml\n",
      "2018-11-20 04:35:06,559 INFO Processing /data/ls8_USGS_ESPA_data/LC080900842018090701T2-SC20180921063644\n",
      "2018-11-20 04:35:06,601 INFO Writing /data/ls8_USGS_ESPA_data/ls8_usgs_sr.yaml\n",
      "2018-11-20 04:35:06,601 INFO Processing /data/ls8_USGS_ESPA_data/LC080900852017090401T1-SC20180921080201\n",
      "2018-11-20 04:35:06,644 INFO Writing /data/ls8_USGS_ESPA_data/ls8_usgs_sr.yaml\n",
      "2018-11-20 04:35:06,644 INFO Processing /data/ls8_USGS_ESPA_data/LC080900852017092001T1-SC20180921064759\n",
      "2018-11-20 04:35:06,705 INFO Writing /data/ls8_USGS_ESPA_data/ls8_usgs_sr.yaml\n",
      "2018-11-20 04:35:06,705 INFO Processing /data/ls8_USGS_ESPA_data/LC080900852017100601T1-SC20180921065203\n",
      "2018-11-20 04:35:06,746 INFO Writing /data/ls8_USGS_ESPA_data/ls8_usgs_sr.yaml\n",
      "2018-11-20 04:35:06,746 INFO Processing /data/ls8_USGS_ESPA_data/LC080900852017102201T1-SC20180921064040\n",
      "2018-11-20 04:35:06,789 INFO Writing /data/ls8_USGS_ESPA_data/ls8_usgs_sr.yaml\n",
      "2018-11-20 04:35:06,790 INFO Processing /data/ls8_USGS_ESPA_data/LC080900852017110701T1-SC20180921064022\n",
      "2018-11-20 04:35:06,830 INFO Writing /data/ls8_USGS_ESPA_data/ls8_usgs_sr.yaml\n",
      "2018-11-20 04:35:06,830 INFO Processing /data/ls8_USGS_ESPA_data/LC080900852017112301T1-SC20180921063836\n",
      "2018-11-20 04:35:06,873 INFO Writing /data/ls8_USGS_ESPA_data/ls8_usgs_sr.yaml\n",
      "2018-11-20 04:35:06,873 INFO Processing /data/ls8_USGS_ESPA_data/LC080900852017120901T1-SC20180921064538\n",
      "2018-11-20 04:35:06,911 INFO Writing /data/ls8_USGS_ESPA_data/ls8_usgs_sr.yaml\n",
      "2018-11-20 04:35:06,911 INFO Processing /data/ls8_USGS_ESPA_data/LC080900852017122501T1-SC20180921074100\n",
      "2018-11-20 04:35:06,954 INFO Writing /data/ls8_USGS_ESPA_data/ls8_usgs_sr.yaml\n",
      "2018-11-20 04:35:06,954 INFO Processing /data/ls8_USGS_ESPA_data/LC080900852018011001T1-SC20180921065203\n",
      "2018-11-20 04:35:06,994 INFO Writing /data/ls8_USGS_ESPA_data/ls8_usgs_sr.yaml\n",
      "2018-11-20 04:35:06,994 INFO Processing /data/ls8_USGS_ESPA_data/LC080900852018012601T1-SC20180921063703\n",
      "2018-11-20 04:35:07,034 INFO Writing /data/ls8_USGS_ESPA_data/ls8_usgs_sr.yaml\n",
      "2018-11-20 04:35:07,034 INFO Processing /data/ls8_USGS_ESPA_data/LC080900852018021101T1-SC20180921063758\n",
      "2018-11-20 04:35:07,077 INFO Writing /data/ls8_USGS_ESPA_data/ls8_usgs_sr.yaml\n",
      "2018-11-20 04:35:07,077 INFO Processing /data/ls8_USGS_ESPA_data/LC080900852018022701T1-SC20180921065127\n",
      "2018-11-20 04:35:07,120 INFO Writing /data/ls8_USGS_ESPA_data/ls8_usgs_sr.yaml\n",
      "2018-11-20 04:35:07,120 INFO Processing /data/ls8_USGS_ESPA_data/LC080900852018031501T1-SC20180921063741\n",
      "2018-11-20 04:35:07,159 INFO Writing /data/ls8_USGS_ESPA_data/ls8_usgs_sr.yaml\n",
      "2018-11-20 04:35:07,159 INFO Processing /data/ls8_USGS_ESPA_data/LC080900852018033101T1-SC20180921063859\n",
      "2018-11-20 04:35:07,202 INFO Writing /data/ls8_USGS_ESPA_data/ls8_usgs_sr.yaml\n",
      "2018-11-20 04:35:07,203 INFO Processing /data/ls8_USGS_ESPA_data/LC080900852018041601T1-SC20180921063932\n",
      "2018-11-20 04:35:07,240 INFO Writing /data/ls8_USGS_ESPA_data/ls8_usgs_sr.yaml\n",
      "2018-11-20 04:35:07,240 INFO Processing /data/ls8_USGS_ESPA_data/LC080900852018050201T1-SC20180921064030\n",
      "2018-11-20 04:35:07,284 INFO Writing /data/ls8_USGS_ESPA_data/ls8_usgs_sr.yaml\n",
      "2018-11-20 04:35:07,285 INFO Processing /data/ls8_USGS_ESPA_data/LC080900852018051801T1-SC20180921063710\n",
      "2018-11-20 04:35:07,323 INFO Writing /data/ls8_USGS_ESPA_data/ls8_usgs_sr.yaml\n",
      "2018-11-20 04:35:07,323 INFO Processing /data/ls8_USGS_ESPA_data/LC080900852018060301T1-SC20180921063754\n",
      "2018-11-20 04:35:07,366 INFO Writing /data/ls8_USGS_ESPA_data/ls8_usgs_sr.yaml\n",
      "2018-11-20 04:35:07,366 INFO Processing /data/ls8_USGS_ESPA_data/LC080900852018061901T1-SC20180921075944\n",
      "2018-11-20 04:35:07,406 INFO Writing /data/ls8_USGS_ESPA_data/ls8_usgs_sr.yaml\n",
      "2018-11-20 04:35:07,407 INFO Processing /data/ls8_USGS_ESPA_data/LC080900852018070501T1-SC20180921063618\n",
      "2018-11-20 04:35:07,451 INFO Writing /data/ls8_USGS_ESPA_data/ls8_usgs_sr.yaml\n",
      "2018-11-20 04:35:07,452 INFO Processing /data/ls8_USGS_ESPA_data/LC080900852018072101T1-SC20180921064233\n"
     ]
    },
    {
     "name": "stdout",
     "output_type": "stream",
     "text": [
      "2018-11-20 04:35:07,498 INFO Writing /data/ls8_USGS_ESPA_data/ls8_usgs_sr.yaml\n",
      "2018-11-20 04:35:07,498 INFO Processing /data/ls8_USGS_ESPA_data/LC080900852018080601T1-SC20180921063818\n",
      "2018-11-20 04:35:07,539 INFO Writing /data/ls8_USGS_ESPA_data/ls8_usgs_sr.yaml\n",
      "2018-11-20 04:35:07,539 INFO Processing /data/ls8_USGS_ESPA_data/LC080900852018082201T1-SC20180921063636\n",
      "2018-11-20 04:35:07,584 INFO Writing /data/ls8_USGS_ESPA_data/ls8_usgs_sr.yaml\n",
      "2018-11-20 04:35:07,585 INFO Processing /data/ls8_USGS_ESPA_data/LC080900852018090701T1-SC20180921063706\n",
      "2018-11-20 04:35:07,623 INFO Writing /data/ls8_USGS_ESPA_data/ls8_usgs_sr.yaml\n",
      "2018-11-20 04:35:07,623 INFO Processing /data/ls8_USGS_ESPA_data/LC080910842017091101T1-SC20180921064953\n",
      "2018-11-20 04:35:07,666 INFO Writing /data/ls8_USGS_ESPA_data/ls8_usgs_sr.yaml\n",
      "2018-11-20 04:35:07,667 INFO Processing /data/ls8_USGS_ESPA_data/LC080910842017092701T1-SC20180921082808\n",
      "2018-11-20 04:35:07,710 INFO Writing /data/ls8_USGS_ESPA_data/ls8_usgs_sr.yaml\n",
      "2018-11-20 04:35:07,710 INFO Processing /data/ls8_USGS_ESPA_data/LC080910842017101301T1-SC20180921064131\n",
      "2018-11-20 04:35:07,770 INFO Writing /data/ls8_USGS_ESPA_data/ls8_usgs_sr.yaml\n",
      "2018-11-20 04:35:07,770 INFO Processing /data/ls8_USGS_ESPA_data/LC080910842017102901T1-SC20180921063854\n",
      "2018-11-20 04:35:07,812 INFO Writing /data/ls8_USGS_ESPA_data/ls8_usgs_sr.yaml\n",
      "2018-11-20 04:35:07,812 INFO Processing /data/ls8_USGS_ESPA_data/LC080910842017111401T1-SC20180921063919\n",
      "2018-11-20 04:35:07,852 INFO Writing /data/ls8_USGS_ESPA_data/ls8_usgs_sr.yaml\n",
      "2018-11-20 04:35:07,853 INFO Processing /data/ls8_USGS_ESPA_data/LC080910842017113001T1-SC20180921063724\n",
      "2018-11-20 04:35:07,895 INFO Writing /data/ls8_USGS_ESPA_data/ls8_usgs_sr.yaml\n",
      "2018-11-20 04:35:07,895 INFO Processing /data/ls8_USGS_ESPA_data/LC080910842017121601T1-SC20180921064935\n",
      "2018-11-20 04:35:07,942 INFO Writing /data/ls8_USGS_ESPA_data/ls8_usgs_sr.yaml\n",
      "2018-11-20 04:35:07,943 INFO Processing /data/ls8_USGS_ESPA_data/LC080910842018010101T1-SC20180921064632\n",
      "2018-11-20 04:35:07,988 INFO Writing /data/ls8_USGS_ESPA_data/ls8_usgs_sr.yaml\n",
      "2018-11-20 04:35:07,988 INFO Processing /data/ls8_USGS_ESPA_data/LC080910842018011701T1-SC20180921064053\n",
      "2018-11-20 04:35:08,028 INFO Writing /data/ls8_USGS_ESPA_data/ls8_usgs_sr.yaml\n",
      "2018-11-20 04:35:08,028 INFO Processing /data/ls8_USGS_ESPA_data/LC080910842018020201T1-SC20180921064813\n",
      "2018-11-20 04:35:08,072 INFO Writing /data/ls8_USGS_ESPA_data/ls8_usgs_sr.yaml\n",
      "2018-11-20 04:35:08,072 INFO Processing /data/ls8_USGS_ESPA_data/LC080910842018021801T1-SC20180921064040\n",
      "2018-11-20 04:35:08,109 INFO Writing /data/ls8_USGS_ESPA_data/ls8_usgs_sr.yaml\n",
      "2018-11-20 04:35:08,109 INFO Processing /data/ls8_USGS_ESPA_data/LC080910842018030601T1-SC20180921074604\n",
      "2018-11-20 04:35:08,148 INFO Writing /data/ls8_USGS_ESPA_data/ls8_usgs_sr.yaml\n",
      "2018-11-20 04:35:08,149 INFO Processing /data/ls8_USGS_ESPA_data/LC080910842018032201T1-SC20180921080527\n",
      "2018-11-20 04:35:08,188 INFO Writing /data/ls8_USGS_ESPA_data/ls8_usgs_sr.yaml\n",
      "2018-11-20 04:35:08,188 INFO Processing /data/ls8_USGS_ESPA_data/LC080910842018040701T1-SC20180921063830\n",
      "2018-11-20 04:35:08,236 INFO Writing /data/ls8_USGS_ESPA_data/ls8_usgs_sr.yaml\n",
      "2018-11-20 04:35:08,236 INFO Processing /data/ls8_USGS_ESPA_data/LC080910842018042301T1-SC20180921070117\n",
      "2018-11-20 04:35:08,272 INFO Writing /data/ls8_USGS_ESPA_data/ls8_usgs_sr.yaml\n",
      "2018-11-20 04:35:08,272 INFO Processing /data/ls8_USGS_ESPA_data/LC080910842018050901T1-SC20180921065810\n",
      "2018-11-20 04:35:08,309 INFO Writing /data/ls8_USGS_ESPA_data/ls8_usgs_sr.yaml\n",
      "2018-11-20 04:35:08,309 INFO Processing /data/ls8_USGS_ESPA_data/LC080910842018052501T1-SC20180921064758\n",
      "2018-11-20 04:35:08,345 INFO Writing /data/ls8_USGS_ESPA_data/ls8_usgs_sr.yaml\n",
      "2018-11-20 04:35:08,345 INFO Processing /data/ls8_USGS_ESPA_data/LC080910842018061001T1-SC20180921070530\n",
      "2018-11-20 04:35:08,386 INFO Writing /data/ls8_USGS_ESPA_data/ls8_usgs_sr.yaml\n",
      "2018-11-20 04:35:08,386 INFO Processing /data/ls8_USGS_ESPA_data/LC080910842018062601T1-SC20180921063745\n",
      "2018-11-20 04:35:08,422 INFO Writing /data/ls8_USGS_ESPA_data/ls8_usgs_sr.yaml\n",
      "2018-11-20 04:35:08,423 INFO Processing /data/ls8_USGS_ESPA_data/LC080910842018071201T1-SC20180921064853\n",
      "2018-11-20 04:35:08,461 INFO Writing /data/ls8_USGS_ESPA_data/ls8_usgs_sr.yaml\n",
      "2018-11-20 04:35:08,461 INFO Processing /data/ls8_USGS_ESPA_data/LC080910842018072801T1-SC20180921082214\n",
      "2018-11-20 04:35:08,496 INFO Writing /data/ls8_USGS_ESPA_data/ls8_usgs_sr.yaml\n",
      "2018-11-20 04:35:08,496 INFO Processing /data/ls8_USGS_ESPA_data/LC080910842018081301T1-SC20180921063855\n",
      "2018-11-20 04:35:08,535 INFO Writing /data/ls8_USGS_ESPA_data/ls8_usgs_sr.yaml\n",
      "2018-11-20 04:35:08,535 INFO Processing /data/ls8_USGS_ESPA_data/LC080910842018082901T1-SC20180921064624\n",
      "2018-11-20 04:35:08,573 INFO Writing /data/ls8_USGS_ESPA_data/ls8_usgs_sr.yaml\n",
      "2018-11-20 04:35:08,573 INFO Processing /data/ls8_USGS_ESPA_data/LC080910842018091401RT-SC20180921070249\n",
      "2018-11-20 04:35:08,615 INFO Writing /data/ls8_USGS_ESPA_data/ls8_usgs_sr.yaml\n",
      "2018-11-20 04:35:08,615 INFO Processing /data/ls8_USGS_ESPA_data/LC080910852017091101T1-SC20180921065115\n",
      "2018-11-20 04:35:08,657 INFO Writing /data/ls8_USGS_ESPA_data/ls8_usgs_sr.yaml\n",
      "2018-11-20 04:35:08,657 INFO Processing /data/ls8_USGS_ESPA_data/LC080910852017092701T1-SC20180921070319\n",
      "2018-11-20 04:35:08,698 INFO Writing /data/ls8_USGS_ESPA_data/ls8_usgs_sr.yaml\n",
      "2018-11-20 04:35:08,698 INFO Processing /data/ls8_USGS_ESPA_data/LC080910852017101301T1-SC20180921063808\n",
      "2018-11-20 04:35:08,744 INFO Writing /data/ls8_USGS_ESPA_data/ls8_usgs_sr.yaml\n",
      "2018-11-20 04:35:08,744 INFO Processing /data/ls8_USGS_ESPA_data/LC080910852017102901T1-SC20180921064105\n",
      "2018-11-20 04:35:08,802 INFO Writing /data/ls8_USGS_ESPA_data/ls8_usgs_sr.yaml\n",
      "2018-11-20 04:35:08,802 INFO Processing /data/ls8_USGS_ESPA_data/LC080910852017111401T1-SC20180921081423\n",
      "2018-11-20 04:35:08,843 INFO Writing /data/ls8_USGS_ESPA_data/ls8_usgs_sr.yaml\n",
      "2018-11-20 04:35:08,843 INFO Processing /data/ls8_USGS_ESPA_data/LC080910852017113001T1-SC20180921080249\n",
      "2018-11-20 04:35:08,882 INFO Writing /data/ls8_USGS_ESPA_data/ls8_usgs_sr.yaml\n",
      "2018-11-20 04:35:08,883 INFO Processing /data/ls8_USGS_ESPA_data/LC080910852017121601T1-SC20180921063903\n",
      "2018-11-20 04:35:08,920 INFO Writing /data/ls8_USGS_ESPA_data/ls8_usgs_sr.yaml\n",
      "2018-11-20 04:35:08,920 INFO Processing /data/ls8_USGS_ESPA_data/LC080910852018010101T1-SC20180921065722\n",
      "2018-11-20 04:35:08,958 INFO Writing /data/ls8_USGS_ESPA_data/ls8_usgs_sr.yaml\n",
      "2018-11-20 04:35:08,958 INFO Processing /data/ls8_USGS_ESPA_data/LC080910852018011701T1-SC20180921082843\n",
      "2018-11-20 04:35:08,995 INFO Writing /data/ls8_USGS_ESPA_data/ls8_usgs_sr.yaml\n",
      "2018-11-20 04:35:08,995 INFO Processing /data/ls8_USGS_ESPA_data/LC080910852018020201T1-SC20180921063931\n",
      "2018-11-20 04:35:09,033 INFO Writing /data/ls8_USGS_ESPA_data/ls8_usgs_sr.yaml\n",
      "2018-11-20 04:35:09,033 INFO Processing /data/ls8_USGS_ESPA_data/LC080910852018021801T2-SC20180921065021\n",
      "2018-11-20 04:35:09,071 INFO Writing /data/ls8_USGS_ESPA_data/ls8_usgs_sr.yaml\n",
      "2018-11-20 04:35:09,071 INFO Processing /data/ls8_USGS_ESPA_data/LC080910852018030601T1-SC20180921065453\n",
      "2018-11-20 04:35:09,108 INFO Writing /data/ls8_USGS_ESPA_data/ls8_usgs_sr.yaml\n",
      "2018-11-20 04:35:09,109 INFO Processing /data/ls8_USGS_ESPA_data/LC080910852018032201T1-SC20180921080030\n",
      "2018-11-20 04:35:09,147 INFO Writing /data/ls8_USGS_ESPA_data/ls8_usgs_sr.yaml\n",
      "2018-11-20 04:35:09,147 INFO Processing /data/ls8_USGS_ESPA_data/LC080910852018040701T1-SC20180921065834\n",
      "2018-11-20 04:35:09,185 INFO Writing /data/ls8_USGS_ESPA_data/ls8_usgs_sr.yaml\n",
      "2018-11-20 04:35:09,185 INFO Processing /data/ls8_USGS_ESPA_data/LC080910852018042301T1-SC20180921064130\n",
      "2018-11-20 04:35:09,221 INFO Writing /data/ls8_USGS_ESPA_data/ls8_usgs_sr.yaml\n",
      "2018-11-20 04:35:09,221 INFO Processing /data/ls8_USGS_ESPA_data/LC080910852018050901T1-SC20180921063546\n",
      "2018-11-20 04:35:09,256 INFO Writing /data/ls8_USGS_ESPA_data/ls8_usgs_sr.yaml\n",
      "2018-11-20 04:35:09,256 INFO Processing /data/ls8_USGS_ESPA_data/LC080910852018052501T1-SC20180921065244\n",
      "2018-11-20 04:35:09,294 INFO Writing /data/ls8_USGS_ESPA_data/ls8_usgs_sr.yaml\n",
      "2018-11-20 04:35:09,294 INFO Processing /data/ls8_USGS_ESPA_data/LC080910852018061001T1-SC20180921063749\n",
      "2018-11-20 04:35:09,329 INFO Writing /data/ls8_USGS_ESPA_data/ls8_usgs_sr.yaml\n",
      "2018-11-20 04:35:09,329 INFO Processing /data/ls8_USGS_ESPA_data/LC080910852018062601T1-SC20180921074001\n"
     ]
    },
    {
     "name": "stdout",
     "output_type": "stream",
     "text": [
      "2018-11-20 04:35:09,369 INFO Writing /data/ls8_USGS_ESPA_data/ls8_usgs_sr.yaml\n",
      "2018-11-20 04:35:09,370 INFO Processing /data/ls8_USGS_ESPA_data/LC080910852018071201T1-SC20180921064154\n",
      "2018-11-20 04:35:09,410 INFO Writing /data/ls8_USGS_ESPA_data/ls8_usgs_sr.yaml\n",
      "2018-11-20 04:35:09,410 INFO Processing /data/ls8_USGS_ESPA_data/LC080910852018072801T1-SC20180921064927\n",
      "2018-11-20 04:35:09,449 INFO Writing /data/ls8_USGS_ESPA_data/ls8_usgs_sr.yaml\n",
      "2018-11-20 04:35:09,450 INFO Processing /data/ls8_USGS_ESPA_data/LC080910852018081301T1-SC20180921063806\n",
      "2018-11-20 04:35:09,486 INFO Writing /data/ls8_USGS_ESPA_data/ls8_usgs_sr.yaml\n",
      "2018-11-20 04:35:09,486 INFO Processing /data/ls8_USGS_ESPA_data/LC080910852018082901T1-SC20180921064858\n",
      "2018-11-20 04:35:09,527 INFO Writing /data/ls8_USGS_ESPA_data/ls8_usgs_sr.yaml\n",
      "2018-11-20 04:35:09,527 INFO Processing /data/ls8_USGS_ESPA_data/LC080910852018091401RT-SC20180921063728\n",
      "2018-11-20 04:35:09,572 INFO Writing /data/ls8_USGS_ESPA_data/ls8_usgs_sr.yaml\n"
     ]
    }
   ],
   "source": [
    "!rm -f /data/ls8_USGS_ESPA_data/ls8_usgs_sr.yaml\n",
    "!touch /data/ls8_USGS_ESPA_data/ls8_usgs_sr.yaml && python3 ~/work/data-pipelines/landsat-usgs/easi_prepare_ls_usgs_sr.py --output /data/ls8_USGS_ESPA_data/ls8_usgs_sr.yaml /data/ls8_USGS_ESPA_data/LC*/"
   ]
  },
  {
   "cell_type": "code",
   "execution_count": 15,
   "metadata": {},
   "outputs": [
    {
     "name": "stdout",
     "output_type": "stream",
     "text": [
      "fatal: not a git repository: /home/jovyan/odc/../.git/modules/datacube-core\n",
      "/home/jovyan/.local/lib/python3.6/site-packages/psycopg2/__init__.py:144: UserWarning: The psycopg2 wheel package will be renamed from release 2.8; in order to keep installing from binary please use \"pip install psycopg2-binary\" instead. For details see: <http://initd.org/psycopg/docs/install.html#binary-install-from-pypi>.\n",
      "  \"\"\")\n",
      "\u001b[?25lIndexing datasets  [####################################]  100%\u001b[?25h\n"
     ]
    }
   ],
   "source": [
    "!datacube dataset add /data/ls8_USGS_ESPA_data/ls8_usgs_sr.yaml"
   ]
  },
  {
   "cell_type": "markdown",
   "metadata": {},
   "source": [
    "# Ingest some data"
   ]
  }
 ],
 "metadata": {
  "kernelspec": {
   "display_name": "Python 3",
   "language": "python",
   "name": "python3"
  },
  "language_info": {
   "codemirror_mode": {
    "name": "ipython",
    "version": 3
   },
   "file_extension": ".py",
   "mimetype": "text/x-python",
   "name": "python",
   "nbconvert_exporter": "python",
   "pygments_lexer": "ipython3",
   "version": "3.6.7"
  },
  "toc": {
   "base_numbering": 1,
   "nav_menu": {},
   "number_sections": true,
   "sideBar": true,
   "skip_h1_title": false,
   "title_cell": "Table of Contents",
   "title_sidebar": "Contents",
   "toc_cell": false,
   "toc_position": {},
   "toc_section_display": true,
   "toc_window_display": false
  }
 },
 "nbformat": 4,
 "nbformat_minor": 2
}
