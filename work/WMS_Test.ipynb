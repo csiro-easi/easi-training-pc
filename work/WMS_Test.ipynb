{
 "cells": [
  {
   "cell_type": "code",
   "execution_count": 6,
   "metadata": {},
   "outputs": [
    {
     "data": {
      "text/plain": [
       "\"Rob's test OWS config\""
      ]
     },
     "execution_count": 6,
     "metadata": {},
     "output_type": "execute_result"
    }
   ],
   "source": [
    "from owslib.wms import WebMapService\n",
    "wms = WebMapService(\"http://wms:8000/wms?\", version=\"1.3.0\")\n",
    "wms.identification.title"
   ]
  },
  {
   "cell_type": "code",
   "execution_count": 7,
   "metadata": {},
   "outputs": [
    {
     "data": {
      "text/plain": [
       "['ls8']"
      ]
     },
     "execution_count": 7,
     "metadata": {},
     "output_type": "execute_result"
    }
   ],
   "source": [
    "list(wms.contents)"
   ]
  },
  {
   "cell_type": "code",
   "execution_count": 8,
   "metadata": {},
   "outputs": [
    {
     "data": {
      "text/plain": [
       "(148.51023012109388,\n",
       " -35.712021629393874,\n",
       " 151.19225656748156,\n",
       " -33.50349020610769)"
      ]
     },
     "execution_count": 8,
     "metadata": {},
     "output_type": "execute_result"
    }
   ],
   "source": [
    "wms['ls8'].boundingBoxWGS84"
   ]
  },
  {
   "cell_type": "code",
   "execution_count": 9,
   "metadata": {},
   "outputs": [
    {
     "data": {
      "text/plain": [
       "{'simple_rgb': {'title': 'Simple RGB'},\n",
       " 'cloud_masked_rgb': {'title': 'Simple RGB with cloud masking'},\n",
       " 'cloud_and_shadow_masked_rgb': {'title': 'Simple RGB with cloud and cloud shadow masking'},\n",
       " 'extended_rgb': {'title': 'Extended RGB'},\n",
       " 'wideband': {'title': 'Wideband false-colour'},\n",
       " 'infra_red': {'title': 'False colour multi-band infra-red'},\n",
       " 'coastal_aerosol': {'title': 'Spectral band 1 - Coastal aerosol'},\n",
       " 'blue': {'title': 'Spectral band 2 - Blue'},\n",
       " 'green': {'title': 'Spectral band 3 - Green'},\n",
       " 'red': {'title': 'Spectral band 4 - Red'},\n",
       " 'nir': {'title': 'Spectral band 5 - Near infra-red'},\n",
       " 'swir1': {'title': 'Spectral band 6 - Short wave infra-red 1'},\n",
       " 'swir2': {'title': 'Spectral band 7 - Short wave infra-red 2'},\n",
       " 'ndvi': {'title': 'NDVI'},\n",
       " 'ndvi_cloudmask': {'title': 'NDVI with cloud masking'},\n",
       " 'ndwi': {'title': 'NDWI'},\n",
       " 'ndwi_cloudmask': {'title': 'NDWI with cloud and cloud-shadow masking'},\n",
       " 'ndbi': {'title': 'NDBI'},\n",
       " 'cloud_mask': {'title': 'Cloud Mask'},\n",
       " 'cloud_and_shadow_mask': {'title': 'Cloud and Shadow Mask'},\n",
       " 'cloud_acca': {'title': 'Cloud acca Mask'},\n",
       " 'cloud_fmask': {'title': 'Cloud fmask Mask'},\n",
       " 'contiguous_mask': {'title': 'Contiguous Data Mask'},\n",
       " 'rgb_ndvi': {'title': 'NDVI plus RGB'},\n",
       " 'rgb_ndvi_cloudmask': {'title': 'NDVI plus RGB (Cloud masked)'}}"
      ]
     },
     "execution_count": 9,
     "metadata": {},
     "output_type": "execute_result"
    }
   ],
   "source": [
    "wms['ls8'].styles"
   ]
  },
  {
   "cell_type": "code",
   "execution_count": 10,
   "metadata": {
    "jupyter": {
     "source_hidden": true
    }
   },
   "outputs": [
    {
     "data": {
      "text/plain": [
       "['EPSG:4326', 'EPSG:3577', 'EPSG:3857']"
      ]
     },
     "execution_count": 10,
     "metadata": {},
     "output_type": "execute_result"
    }
   ],
   "source": [
    "wms['ls8'].crsOptions"
   ]
  },
  {
   "cell_type": "code",
   "execution_count": 11,
   "metadata": {
    "jupyter": {
     "source_hidden": true
    }
   },
   "outputs": [
    {
     "data": {
      "text/plain": [
       "['GetCapabilities', 'GetMap', 'GetFeatureInfo']"
      ]
     },
     "execution_count": 11,
     "metadata": {},
     "output_type": "execute_result"
    }
   ],
   "source": [
    "[op.name for op in wms.operations]"
   ]
  },
  {
   "cell_type": "code",
   "execution_count": 12,
   "metadata": {
    "jupyter": {
     "source_hidden": true
    }
   },
   "outputs": [
    {
     "data": {
      "text/plain": [
       "[{'type': 'Get', 'url': 'http://wms:8000/wms?'}]"
      ]
     },
     "execution_count": 12,
     "metadata": {},
     "output_type": "execute_result"
    }
   ],
   "source": [
    "wms.getOperationByName('GetMap').methods"
   ]
  },
  {
   "cell_type": "code",
   "execution_count": 13,
   "metadata": {
    "jupyter": {
     "source_hidden": true
    }
   },
   "outputs": [
    {
     "data": {
      "text/plain": [
       "['image/png']"
      ]
     },
     "execution_count": 13,
     "metadata": {},
     "output_type": "execute_result"
    }
   ],
   "source": [
    "wms.getOperationByName('GetMap').formatOptions"
   ]
  },
  {
   "cell_type": "code",
   "execution_count": 14,
   "metadata": {},
   "outputs": [],
   "source": [
    "# Set up centre of area to analyse, and a buffer in metres around this centrepoint\n",
    "x, y, buffer_m = 16598849.27, -4204725.05, 10000\n",
    "bbox = ((x - buffer_m),(y - buffer_m),(x + buffer_m),(y + buffer_m))"
   ]
  },
  {
   "cell_type": "code",
   "execution_count": 15,
   "metadata": {},
   "outputs": [
    {
     "name": "stdout",
     "output_type": "stream",
     "text": [
      "(16588849.27, -4214725.05, 16608849.27, -4194725.05)\n"
     ]
    }
   ],
   "source": [
    "print(bbox)"
   ]
  },
  {
   "cell_type": "code",
   "execution_count": 16,
   "metadata": {},
   "outputs": [],
   "source": [
    "img = wms.getmap(layers=['ls8'],\n",
    "                 styles=['simple_rgb'],\n",
    "                 srs='EPSG:3857',\n",
    "                 bbox=bbox,\n",
    "                 size=(256,256),\n",
    "                 format='image/png')\n",
    "                 "
   ]
  },
  {
   "cell_type": "code",
   "execution_count": 17,
   "metadata": {},
   "outputs": [],
   "source": [
    "out = open('test.png', 'wb')\n",
    "out.write(img.read())\n",
    "out.close()"
   ]
  },
  {
   "cell_type": "code",
   "execution_count": 18,
   "metadata": {},
   "outputs": [
    {
     "data": {
      "text/plain": [
       "'http://wms:8000/wms?service=WMS&version=1.3.0&request=GetMap&layers=ls8&styles=simple_rgb&width=256&height=256&crs=EPSG%3A3857&bbox=16588849.27%2C-4214725.05%2C16608849.27%2C-4194725.05&format=image%2Fpng&transparent=FALSE&bgcolor=0xFFFFFF&exceptions=XML'"
      ]
     },
     "execution_count": 18,
     "metadata": {},
     "output_type": "execute_result"
    }
   ],
   "source": [
    "img.geturl()"
   ]
  },
  {
   "cell_type": "code",
   "execution_count": 19,
   "metadata": {},
   "outputs": [],
   "source": [
    "\n",
    "import ipywidgets as widgets"
   ]
  },
  {
   "cell_type": "code",
   "execution_count": 20,
   "metadata": {},
   "outputs": [
    {
     "data": {
      "application/vnd.jupyter.widget-view+json": {
       "model_id": "2d52a0d1bda3437d968aa907e06ed937",
       "version_major": 2,
       "version_minor": 0
      },
      "text/plain": [
       "Image(value=b'\\x89PNG\\r\\n\\x1a\\n\\x00\\x00\\x00\\rIHDR\\x00\\x00\\x01\\x00\\x00\\x00\\x01\\x00\\x08\\x02\\x00\\x00\\x00\\xd3\\x10?…"
      ]
     },
     "metadata": {},
     "output_type": "display_data"
    }
   ],
   "source": [
    "widgets.Image(\n",
    "    value=img.read(),\n",
    "    format='png',\n",
    "    width=256,\n",
    "    height=256,\n",
    ")\n"
   ]
  },
  {
   "cell_type": "code",
   "execution_count": null,
   "metadata": {},
   "outputs": [],
   "source": []
  },
  {
   "cell_type": "code",
   "execution_count": 21,
   "metadata": {},
   "outputs": [
    {
     "data": {
      "application/vnd.jupyter.widget-view+json": {
       "model_id": "e578ba97234e4984922b3c2dd987cc05",
       "version_major": 2,
       "version_minor": 0
      },
      "text/plain": [
       "Map(basemap={'url': 'https://{s}.tile.openstreetmap.org/{z}/{x}/{y}.png', 'max_zoom': 19, 'attribution': 'Map …"
      ]
     },
     "metadata": {},
     "output_type": "display_data"
    }
   ],
   "source": [
    "from ipyleaflet import (\n",
    "    Map, basemaps, basemap_to_tiles,\n",
    "    WMSLayer, LayersControl\n",
    ")\n",
    "\n",
    "m = Map(center=(-35.3, 149.1),\n",
    "        crs=\"EPSG3857\",\n",
    "        zoom=5)\n",
    "\n",
    "#nasa_layer = basemap_to_tiles(basemaps.NASAGIBS.ModisTerraTrueColorCR, \"2018-03-30\")\n",
    "#m.add_layer(nasa_layer)\n",
    "# Use explicit IP address when in Docker as ipyleaflet fails to find the server by its name via Docker-compose name lookup\n",
    "wms = WMSLayer(\n",
    "    url=\"http://172.18.0.2:8000/?\",\n",
    "    layers=\"frac_cover\",\n",
    "    format=\"image/png\",\n",
    "    crs=\"EPSG3857\",\n",
    "    styles=\"tot_cover\",\n",
    "    name=\"test\"\n",
    ")\n",
    "m.add_layer(wms)\n",
    "\n",
    "m.add_control(LayersControl())\n",
    "\n",
    "m"
   ]
  },
  {
   "cell_type": "code",
   "execution_count": null,
   "metadata": {},
   "outputs": [],
   "source": []
  },
  {
   "cell_type": "code",
   "execution_count": 22,
   "metadata": {
    "jupyter": {
     "source_hidden": true
    }
   },
   "outputs": [
    {
     "name": "stdout",
     "output_type": "stream",
     "text": [
      "  % Total    % Received % Xferd  Average Speed   Time    Time     Time  Current\n",
      "                                 Dload  Upload   Total   Spent    Left  Speed\n",
      "  0     0    0     0    0     0      0      0 --:--:-- --:--:-- --:--:--     0*   Trying 172.17.0.3...\n",
      "* TCP_NODELAY set\n",
      "* Connected to wms (172.17.0.3) port 8000 (#0)\n",
      "> GET /wms?request=GetMap&format=image%2Fpng&version=1.3.0&crs=EPSG%3A3857&layers=ls8&bbox=149.05%2C-35.25%2C149.17%2C-35.35&width=256&height=256 HTTP/1.1\n",
      "> Host: wms:8000\n",
      "> User-Agent: curl/7.58.0\n",
      "> Accept: */*\n",
      "> \n",
      "  0     0    0     0    0     0      0      0 --:--:--  0:00:06 --:--:--     0< HTTP/1.1 200 OK\n",
      "< Server: gunicorn/19.9.0\n",
      "< Date: Mon, 16 Sep 2019 23:24:04 GMT\n",
      "< Connection: close\n",
      "< Access-Control-Allow-Origin: *\n",
      "< Content-Type: image/png\n",
      "< Content-Length: 155\n",
      "< X-REQUEST-ID: 779b3a8e-f1b3-4cb9-b509-e1e8e975ed83\n",
      "< \n",
      "  0   155    0     0    0     0      0      0 --:--:--  0:00:06 --:--:--     0{ [155 bytes data]\n",
      "100   155  100   155    0     0     22      0  0:00:07  0:00:06  0:00:01    41\n",
      "* Closing connection 0\n"
     ]
    }
   ],
   "source": [
    "!curl -v -L --output test.png \"http://wms:8000/wms?request=GetMap&format=image%2Fpng&version=1.3.0&crs=EPSG%3A3857&layers=ls8&bbox=149.05%2C-35.25%2C149.17%2C-35.35&width=256&height=256\""
   ]
  },
  {
   "cell_type": "code",
   "execution_count": 12,
   "metadata": {},
   "outputs": [
    {
     "name": "stdout",
     "output_type": "stream",
     "text": [
      "*   Trying 172.18.0.2...\n",
      "* TCP_NODELAY set\n",
      "* Connected to wms (172.18.0.2) port 8000 (#0)\n",
      "> GET /?service=WMS&request=GetCapabilities HTTP/1.1\n",
      "> Host: wms:8000\n",
      "> User-Agent: curl/7.58.0\n",
      "> Accept: */*\n",
      "> \n",
      "< HTTP/1.1 200 OK\n",
      "< Server: gunicorn/19.9.0\n",
      "< Date: Thu, 29 Aug 2019 05:02:56 GMT\n",
      "< Connection: close\n",
      "< Access-Control-Allow-Origin: *\n",
      "< Content-Type: application/xml\n",
      "< Cache-Control: no-cache,max-age=0\n",
      "< Content-Length: 3815\n",
      "< X-REQUEST-ID: e0d98911-2725-40ff-b41a-9ec8f14a387a\n",
      "< \n",
      "<?xml version='1.0' encoding=\"UTF-8\"?>\n",
      "<WMS_Capabilities version=\"1.3.0\"\n",
      "xmlns=\"http://www.opengis.net/wms\"\n",
      "xmlns:xlink=\"http://www.w3.org/1999/xlink\"\n",
      "xmlns:xsi=\"http://www.w3.org/2001/XMLSchema-instance\"\n",
      "xsi:schemaLocation=\"http://www.opengis.net/wms\n",
      "http://schemas.opengis.net/wms/1.3.0/capabilities_1_3_0.xsd\">\n",
      "<Service>\n",
      "    <Name>WMS</Name>\n",
      "    <Title>WMS server for Australian Landsat Datacube</Title>\n",
      "    \n",
      "    <Abstract>\n",
      "        Historic Landsat imagery for Australia.\n",
      "    </Abstract>\n",
      "    \n",
      "    \n",
      "    <KeywordList>\n",
      "        \n",
      "        <Keyword>landsat</Keyword>\n",
      "        \n",
      "        <Keyword>australia</Keyword>\n",
      "        \n",
      "        <Keyword>time-series</Keyword>\n",
      "        \n",
      "    </KeywordList>\n",
      "    \n",
      "\n",
      "    <OnlineResource xmlns:xlink=\"http://www.w3.org/1999/xlink\" xlink:type=\"simple\"\n",
      "    xlink:href=\"http://9xjfk12.nexus.csiro.au/datacube_wms/\" />\n",
      "\n",
      "    \n",
      "    <ContactInformation>\n",
      "        \n",
      "        <ContactPersonPrimary>\n",
      "            <ContactPerson>David Gavin</ContactPerson>\n",
      "            <ContactOrganization>Geoscience Australia</ContactOrganization>\n",
      "        </ContactPersonPrimary>\n",
      "        \n",
      "        \n",
      "        <ContactPosition>Technical Lead</ContactPosition>\n",
      "        \n",
      "        \n",
      "        <ContactAddress>\n",
      "            <AddressType>postal</AddressType>\n",
      "            <Address>GPO Box 378</Address>\n",
      "            <City>Canberra</City>\n",
      "            <StateOrProvince>ACT</StateOrProvince>\n",
      "            <PostCode>2906</PostCode>\n",
      "            <Country>Australia</Country>\n",
      "        </ContactAddress>\n",
      "        \n",
      "        \n",
      "        <ContactVoiceTelephone>+61 2 1234 5678</ContactVoiceTelephone>\n",
      "        \n",
      "        \n",
      "        <ContactFacsimileTelephone>+61 2 1234 6789</ContactFacsimileTelephone>\n",
      "        \n",
      "        \n",
      "        <ContactElectronicMailAddress>test@example.com</ContactElectronicMailAddress>\n",
      "        \n",
      "    </ContactInformation>\n",
      "    \n",
      "\n",
      "    <Fees>none</Fees>\n",
      "    <AccessConstraints>none</AccessConstraints>\n",
      "\n",
      "    <LayerLimit>1</LayerLimit>\n",
      "     <MaxWidth>512</MaxWidth>\n",
      "     <MaxHeight>512</MaxHeight>\n",
      "</Service>\n",
      "\n",
      "<Capability>\n",
      "    <Request>\n",
      "        <GetCapabilities>\n",
      "            <Format>text/xml</Format>\n",
      "            <DCPType>\n",
      "                <HTTP>\n",
      "                    <Get>\n",
      "                        <OnlineResource xmlns:xlink=\"http://www.w3.org/1999/xlink\"\n",
      "                        xlink:type=\"simple\"\n",
      "                        xlink:href=\"http://9xjfk12.nexus.csiro.au/datacube_wms/wms?\" />\n",
      "                    </Get>\n",
      "                </HTTP>\n",
      "            </DCPType>\n",
      "        </GetCapabilities>\n",
      "        <GetMap>\n",
      "            <Format>image/png</Format>\n",
      "            <DCPType>\n",
      "                <HTTP>\n",
      "                <Get>\n",
      "                    <OnlineResource xmlns:xlink=\"http://www.w3.org/1999/xlink\"\n",
      "                    xlink:type=\"simple\"\n",
      "                    xlink:href=\"http://9xjfk12.nexus.csiro.au/datacube_wms/wms?\" />\n",
      "                </Get>\n",
      "                </HTTP>\n",
      "            </DCPType>\n",
      "        </GetMap>\n",
      "        <GetFeatureInfo>\n",
      "            <Format>application/json</Format>\n",
      "            <DCPType>\n",
      "                <HTTP>\n",
      "                    <Get>\n",
      "                        <OnlineResource xmlns:xlink=\"http://www.w3.org/1999/xlink\"\n",
      "                                        xlink:type=\"simple\"\n",
      "                                        xlink:href=\"http://9xjfk12.nexus.csiro.au/datacube_wms/wms?\" />\n",
      "                    </Get>\n",
      "                </HTTP>\n",
      "            </DCPType>\n",
      "        </GetFeatureInfo>\n",
      "    </Request>\n",
      "\n",
      "    <Exception>\n",
      "        <Format>XML</Format>\n",
      "    </Exception>\n",
      "\n",
      "    <Layer>\n",
      "        <Title>WMS server for Australian Landsat Datacube</Title>\n",
      "\n",
      "        \n",
      "        <Abstract>\n",
      "            Historic Landsat imagery for Australia.\n",
      "        </Abstract>\n",
      "        \n",
      "\n",
      "        \n",
      "        <CRS>EPSG:3857</CRS>\n",
      "        \n",
      "        <CRS>EPSG:4326</CRS>\n",
      "        \n",
      "        <CRS>EPSG:3577</CRS>\n",
      "        \n",
      "\n",
      "        \n",
      "\n",
      "        \n",
      "    </Layer>\n",
      "</Capability>\n",
      "* Closing connection 0\n",
      "</WMS_Capabilities>"
     ]
    }
   ],
   "source": [
    "!curl -v -L \"http://wms:8000/?service=WMS&request=GetCapabilities\""
   ]
  },
  {
   "cell_type": "code",
   "execution_count": 66,
   "metadata": {
    "jupyter": {
     "source_hidden": true
    }
   },
   "outputs": [
    {
     "name": "stdout",
     "output_type": "stream",
     "text": [
      "Usage: curl [options...] <url>\n",
      "     --abstract-unix-socket <path> Connect via abstract Unix domain socket\n",
      "     --anyauth       Pick any authentication method\n",
      " -a, --append        Append to target file when uploading\n",
      "     --basic         Use HTTP Basic Authentication\n",
      "     --cacert <file> CA certificate to verify peer against\n",
      "     --capath <dir>  CA directory to verify peer against\n",
      " -E, --cert <certificate[:password]> Client certificate file and password\n",
      "     --cert-status   Verify the status of the server certificate\n",
      "     --cert-type <type> Certificate file type (DER/PEM/ENG)\n",
      "     --ciphers <list of ciphers> SSL ciphers to use\n",
      "     --compressed    Request compressed response\n",
      "     --compressed-ssh Enable SSH compression\n",
      " -K, --config <file> Read config from a file\n",
      "     --connect-timeout <seconds> Maximum time allowed for connection\n",
      "     --connect-to <HOST1:PORT1:HOST2:PORT2> Connect to host\n",
      " -C, --continue-at <offset> Resumed transfer offset\n",
      " -b, --cookie <data> Send cookies from string/file\n",
      " -c, --cookie-jar <filename> Write cookies to <filename> after operation\n",
      "     --create-dirs   Create necessary local directory hierarchy\n",
      "     --crlf          Convert LF to CRLF in upload\n",
      "     --crlfile <file> Get a CRL list in PEM format from the given file\n",
      " -d, --data <data>   HTTP POST data\n",
      "     --data-ascii <data> HTTP POST ASCII data\n",
      "     --data-binary <data> HTTP POST binary data\n",
      "     --data-raw <data> HTTP POST data, '@' allowed\n",
      "     --data-urlencode <data> HTTP POST data url encoded\n",
      "     --delegation <LEVEL> GSS-API delegation permission\n",
      "     --digest        Use HTTP Digest Authentication\n",
      " -q, --disable       Disable .curlrc\n",
      "     --disable-eprt  Inhibit using EPRT or LPRT\n",
      "     --disable-epsv  Inhibit using EPSV\n",
      "     --dns-interface <interface> Interface to use for DNS requests\n",
      "     --dns-ipv4-addr <address> IPv4 address to use for DNS requests\n",
      "     --dns-ipv6-addr <address> IPv6 address to use for DNS requests\n",
      "     --dns-servers <addresses> DNS server addrs to use\n",
      " -D, --dump-header <filename> Write the received headers to <filename>\n",
      "     --egd-file <file> EGD socket path for random data\n",
      "     --engine <name> Crypto engine to use\n",
      "     --expect100-timeout <seconds> How long to wait for 100-continue\n",
      " -f, --fail          Fail silently (no output at all) on HTTP errors\n",
      "     --fail-early    Fail on first transfer error, do not continue\n",
      "     --false-start   Enable TLS False Start\n",
      " -F, --form <name=content> Specify multipart MIME data\n",
      "     --form-string <name=string> Specify multipart MIME data\n",
      "     --ftp-account <data> Account data string\n",
      "     --ftp-alternative-to-user <command> String to replace USER [name]\n",
      "     --ftp-create-dirs Create the remote dirs if not present\n",
      "     --ftp-method <method> Control CWD usage\n",
      "     --ftp-pasv      Use PASV/EPSV instead of PORT\n",
      " -P, --ftp-port <address> Use PORT instead of PASV\n",
      "     --ftp-pret      Send PRET before PASV\n",
      "     --ftp-skip-pasv-ip Skip the IP address for PASV\n",
      "     --ftp-ssl-ccc   Send CCC after authenticating\n",
      "     --ftp-ssl-ccc-mode <active/passive> Set CCC mode\n",
      "     --ftp-ssl-control Require SSL/TLS for FTP login, clear for transfer\n",
      " -G, --get           Put the post data in the URL and use GET\n",
      " -g, --globoff       Disable URL sequences and ranges using {} and []\n",
      " -I, --head          Show document info only\n",
      " -H, --header <header/@file> Pass custom header(s) to server\n",
      " -h, --help          This help text\n",
      "     --hostpubmd5 <md5> Acceptable MD5 hash of the host public key\n",
      " -0, --http1.0       Use HTTP 1.0\n",
      "     --http1.1       Use HTTP 1.1\n",
      "     --http2         Use HTTP 2\n",
      "     --http2-prior-knowledge Use HTTP 2 without HTTP/1.1 Upgrade\n",
      "     --ignore-content-length Ignore the size of the remote resource\n",
      " -i, --include       Include protocol response headers in the output\n",
      " -k, --insecure      Allow insecure server connections when using SSL\n",
      "     --interface <name> Use network INTERFACE (or address)\n",
      " -4, --ipv4          Resolve names to IPv4 addresses\n",
      " -6, --ipv6          Resolve names to IPv6 addresses\n",
      " -j, --junk-session-cookies Ignore session cookies read from file\n",
      "     --keepalive-time <seconds> Interval time for keepalive probes\n",
      "     --key <key>     Private key file name\n",
      "     --key-type <type> Private key file type (DER/PEM/ENG)\n",
      "     --krb <level>   Enable Kerberos with security <level>\n",
      "     --libcurl <file> Dump libcurl equivalent code of this command line\n",
      "     --limit-rate <speed> Limit transfer speed to RATE\n",
      " -l, --list-only     List only mode\n",
      "     --local-port <num/range> Force use of RANGE for local port numbers\n",
      " -L, --location      Follow redirects\n",
      "     --location-trusted Like --location, and send auth to other hosts\n",
      "     --login-options <options> Server login options\n",
      "     --mail-auth <address> Originator address of the original email\n",
      "     --mail-from <address> Mail from this address\n",
      "     --mail-rcpt <address> Mail to this address\n",
      " -M, --manual        Display the full manual\n",
      "     --max-filesize <bytes> Maximum file size to download\n",
      "     --max-redirs <num> Maximum number of redirects allowed\n",
      " -m, --max-time <time> Maximum time allowed for the transfer\n",
      "     --metalink      Process given URLs as metalink XML file\n",
      "     --negotiate     Use HTTP Negotiate (SPNEGO) authentication\n",
      " -n, --netrc         Must read .netrc for user name and password\n",
      "     --netrc-file <filename> Specify FILE for netrc\n",
      "     --netrc-optional Use either .netrc or URL\n",
      " -:, --next          Make next URL use its separate set of options\n",
      "     --no-alpn       Disable the ALPN TLS extension\n",
      " -N, --no-buffer     Disable buffering of the output stream\n",
      "     --no-keepalive  Disable TCP keepalive on the connection\n",
      "     --no-npn        Disable the NPN TLS extension\n",
      "     --no-sessionid  Disable SSL session-ID reusing\n",
      "     --noproxy <no-proxy-list> List of hosts which do not use proxy\n",
      "     --ntlm          Use HTTP NTLM authentication\n",
      "     --ntlm-wb       Use HTTP NTLM authentication with winbind\n",
      "     --oauth2-bearer <token> OAuth 2 Bearer Token\n",
      " -o, --output <file> Write to file instead of stdout\n",
      "     --pass <phrase> Pass phrase for the private key\n",
      "     --path-as-is    Do not squash .. sequences in URL path\n",
      "     --pinnedpubkey <hashes> FILE/HASHES Public key to verify peer against\n",
      "     --post301       Do not switch to GET after following a 301\n",
      "     --post302       Do not switch to GET after following a 302\n",
      "     --post303       Do not switch to GET after following a 303\n",
      "     --preproxy [protocol://]host[:port] Use this proxy first\n",
      " -#, --progress-bar  Display transfer progress as a bar\n",
      "     --proto <protocols> Enable/disable PROTOCOLS\n",
      "     --proto-default <protocol> Use PROTOCOL for any URL missing a scheme\n",
      "     --proto-redir <protocols> Enable/disable PROTOCOLS on redirect\n",
      " -x, --proxy [protocol://]host[:port] Use this proxy\n",
      "     --proxy-anyauth Pick any proxy authentication method\n",
      "     --proxy-basic   Use Basic authentication on the proxy\n",
      "     --proxy-cacert <file> CA certificate to verify peer against for proxy\n",
      "     --proxy-capath <dir> CA directory to verify peer against for proxy\n",
      "     --proxy-cert <cert[:passwd]> Set client certificate for proxy\n",
      "     --proxy-cert-type <type> Client certificate type for HTTS proxy\n",
      "     --proxy-ciphers <list> SSL ciphers to use for proxy\n",
      "     --proxy-crlfile <file> Set a CRL list for proxy\n",
      "     --proxy-digest  Use Digest authentication on the proxy\n",
      "     --proxy-header <header/@file> Pass custom header(s) to proxy\n",
      "     --proxy-insecure Do HTTPS proxy connections without verifying the proxy\n",
      "     --proxy-key <key> Private key for HTTPS proxy\n",
      "     --proxy-key-type <type> Private key file type for proxy\n",
      "     --proxy-negotiate Use HTTP Negotiate (SPNEGO) authentication on the proxy\n",
      "     --proxy-ntlm    Use NTLM authentication on the proxy\n",
      "     --proxy-pass <phrase> Pass phrase for the private key for HTTPS proxy\n",
      "     --proxy-service-name <name> SPNEGO proxy service name\n",
      "     --proxy-ssl-allow-beast Allow security flaw for interop for HTTPS proxy\n",
      "     --proxy-tlsauthtype <type> TLS authentication type for HTTPS proxy\n",
      "     --proxy-tlspassword <string> TLS password for HTTPS proxy\n",
      "     --proxy-tlsuser <name> TLS username for HTTPS proxy\n",
      "     --proxy-tlsv1   Use TLSv1 for HTTPS proxy\n",
      " -U, --proxy-user <user:password> Proxy user and password\n",
      "     --proxy1.0 <host[:port]> Use HTTP/1.0 proxy on given port\n",
      " -p, --proxytunnel   Operate through a HTTP proxy tunnel (using CONNECT)\n",
      "     --pubkey <key>  SSH Public key file name\n",
      " -Q, --quote         Send command(s) to server before transfer\n",
      "     --random-file <file> File for reading random data from\n",
      " -r, --range <range> Retrieve only the bytes within RANGE\n",
      "     --raw           Do HTTP \"raw\"; no transfer decoding\n",
      " -e, --referer <URL> Referrer URL\n",
      " -J, --remote-header-name Use the header-provided filename\n",
      " -O, --remote-name   Write output to a file named as the remote file\n",
      "     --remote-name-all Use the remote file name for all URLs\n",
      " -R, --remote-time   Set the remote file's time on the local output\n",
      " -X, --request <command> Specify request command to use\n",
      "     --request-target Specify the target for this request\n",
      "     --resolve <host:port:address> Resolve the host+port to this address\n",
      "     --retry <num>   Retry request if transient problems occur\n",
      "     --retry-connrefused Retry on connection refused (use with --retry)\n",
      "     --retry-delay <seconds> Wait time between retries\n",
      "     --retry-max-time <seconds> Retry only within this period\n",
      "     --sasl-ir       Enable initial response in SASL authentication\n",
      "     --service-name <name> SPNEGO service name\n",
      " -S, --show-error    Show error even when -s is used\n",
      " -s, --silent        Silent mode\n",
      "     --socks4 <host[:port]> SOCKS4 proxy on given host + port\n",
      "     --socks4a <host[:port]> SOCKS4a proxy on given host + port\n",
      "     --socks5 <host[:port]> SOCKS5 proxy on given host + port\n",
      "     --socks5-basic  Enable username/password auth for SOCKS5 proxies\n",
      "     --socks5-gssapi Enable GSS-API auth for SOCKS5 proxies\n",
      "     --socks5-gssapi-nec Compatibility with NEC SOCKS5 server\n",
      "     --socks5-gssapi-service <name> SOCKS5 proxy service name for GSS-API\n",
      "     --socks5-hostname <host[:port]> SOCKS5 proxy, pass host name to proxy\n",
      " -Y, --speed-limit <speed> Stop transfers slower than this\n",
      " -y, --speed-time <seconds> Trigger 'speed-limit' abort after this time\n",
      "     --ssl           Try SSL/TLS\n",
      "     --ssl-allow-beast Allow security flaw to improve interop\n",
      "     --ssl-no-revoke Disable cert revocation checks (WinSSL)\n",
      "     --ssl-reqd      Require SSL/TLS\n",
      " -2, --sslv2         Use SSLv2\n",
      " -3, --sslv3         Use SSLv3\n",
      "     --stderr        Where to redirect stderr\n",
      "     --suppress-connect-headers Suppress proxy CONNECT response headers\n",
      "     --tcp-fastopen  Use TCP Fast Open\n",
      "     --tcp-nodelay   Use the TCP_NODELAY option\n",
      " -t, --telnet-option <opt=val> Set telnet option\n",
      "     --tftp-blksize <value> Set TFTP BLKSIZE option\n",
      "     --tftp-no-options Do not send any TFTP options\n",
      " -z, --time-cond <time> Transfer based on a time condition\n",
      "     --tls-max <VERSION> Use TLSv1.0 or greater\n",
      "     --tlsauthtype <type> TLS authentication type\n",
      "     --tlspassword   TLS password\n",
      "     --tlsuser <name> TLS user name\n",
      " -1, --tlsv1         Use TLSv1.0 or greater\n",
      "     --tlsv1.0       Use TLSv1.0\n",
      "     --tlsv1.1       Use TLSv1.1\n",
      "     --tlsv1.2       Use TLSv1.2\n",
      "     --tlsv1.3       Use TLSv1.3\n",
      "     --tr-encoding   Request compressed transfer encoding\n",
      "     --trace <file>  Write a debug trace to FILE\n",
      "     --trace-ascii <file> Like --trace, but without hex output\n",
      "     --trace-time    Add time stamps to trace/verbose output\n",
      "     --unix-socket <path> Connect through this Unix domain socket\n",
      " -T, --upload-file <file> Transfer local FILE to destination\n",
      "     --url <url>     URL to work with\n",
      " -B, --use-ascii     Use ASCII/text transfer\n",
      " -u, --user <user:password> Server user and password\n",
      " -A, --user-agent <name> Send User-Agent <name> to server\n",
      " -v, --verbose       Make the operation more talkative\n",
      " -V, --version       Show version number and quit\n",
      " -w, --write-out <format> Use output FORMAT after completion\n",
      "     --xattr         Store metadata in extended file attributes\n"
     ]
    }
   ],
   "source": [
    "!curl -h"
   ]
  },
  {
   "cell_type": "code",
   "execution_count": null,
   "metadata": {},
   "outputs": [],
   "source": []
  }
 ],
 "metadata": {
  "kernelspec": {
   "display_name": "Python 3",
   "language": "python",
   "name": "python3"
  },
  "language_info": {
   "codemirror_mode": {
    "name": "ipython",
    "version": 3
   },
   "file_extension": ".py",
   "mimetype": "text/x-python",
   "name": "python",
   "nbconvert_exporter": "python",
   "pygments_lexer": "ipython3",
   "version": "3.6.8"
  }
 },
 "nbformat": 4,
 "nbformat_minor": 4
}
