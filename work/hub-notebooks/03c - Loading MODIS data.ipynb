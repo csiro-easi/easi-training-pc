{
 "cells": [
  {
   "cell_type": "markdown",
   "metadata": {},
   "source": [
    "# Loading MODIS data from the datacube\n",
    "\n",
    "This notebook will briefly discuss how to load MODIS data from the datacube. It is a duplicate of the Landsat notebook modified only to use MODIS instead.\n",
    "\n",
    "**Requirements:**\n",
    "* A running data cube created via 01 - Getting Started"
   ]
  },
  {
   "cell_type": "code",
   "execution_count": 1,
   "metadata": {},
   "outputs": [],
   "source": [
    "# This next line enables interactive plots for use later in the notebook\n",
    "%matplotlib notebook"
   ]
  },
  {
   "cell_type": "markdown",
   "metadata": {},
   "source": [
    "## Importing the datacube module\n",
    "\n",
    "To start with, we'll import the datacube module and load an instance of the datacube and call our application name *load-data-example*. The application name can be anything, its used in logging information so you can trace results etc using the name.\n",
    "We'll keep this example satisfying in that you can see some data quickly. Later as we look at more specific products and analysis we'll introduce more variants of the loading process."
   ]
  },
  {
   "cell_type": "code",
   "execution_count": 2,
   "metadata": {},
   "outputs": [
    {
     "name": "stderr",
     "output_type": "stream",
     "text": [
      "/home/jovyan/.local/lib/python3.6/site-packages/psycopg2/__init__.py:144: UserWarning: The psycopg2 wheel package will be renamed from release 2.8; in order to keep installing from binary please use \"pip install psycopg2-binary\" instead. For details see: <http://initd.org/psycopg/docs/install.html#binary-install-from-pypi>.\n",
      "  \"\"\")\n"
     ]
    },
    {
     "data": {
      "text/html": [
       "<div>\n",
       "<style scoped>\n",
       "    .dataframe tbody tr th:only-of-type {\n",
       "        vertical-align: middle;\n",
       "    }\n",
       "\n",
       "    .dataframe tbody tr th {\n",
       "        vertical-align: top;\n",
       "    }\n",
       "\n",
       "    .dataframe thead th {\n",
       "        text-align: right;\n",
       "    }\n",
       "</style>\n",
       "<table border=\"1\" class=\"dataframe\">\n",
       "  <thead>\n",
       "    <tr style=\"text-align: right;\">\n",
       "      <th></th>\n",
       "      <th>description</th>\n",
       "      <th>product_type</th>\n",
       "      <th>crs</th>\n",
       "      <th>resolution</th>\n",
       "      <th>spatial_dimensions</th>\n",
       "    </tr>\n",
       "    <tr>\n",
       "      <th>name</th>\n",
       "      <th></th>\n",
       "      <th></th>\n",
       "      <th></th>\n",
       "      <th></th>\n",
       "      <th></th>\n",
       "    </tr>\n",
       "  </thead>\n",
       "  <tbody>\n",
       "    <tr>\n",
       "      <th>modis_mcd43a1_tile</th>\n",
       "      <td>MODIS 500 metre MCD43A1 Collection 006</td>\n",
       "      <td>MCD43A1</td>\n",
       "      <td>PROJCS[\"unnamed\",GEOGCS[\"Unknown datum based u...</td>\n",
       "      <td>NaN</td>\n",
       "      <td>(y, x)</td>\n",
       "    </tr>\n",
       "    <tr>\n",
       "      <th>modis_mcd43a2_tile</th>\n",
       "      <td>MODIS 500 metre MCD43A2 Collection 006</td>\n",
       "      <td>MCD43A2</td>\n",
       "      <td>PROJCS[\"unnamed\",GEOGCS[\"Unknown datum based u...</td>\n",
       "      <td>NaN</td>\n",
       "      <td>(y, x)</td>\n",
       "    </tr>\n",
       "    <tr>\n",
       "      <th>modis_mcd43a3_tile</th>\n",
       "      <td>MODIS 500 metre MCD43A3 Collection 006</td>\n",
       "      <td>MCD43A3</td>\n",
       "      <td>PROJCS[\"unnamed\",GEOGCS[\"Unknown datum based u...</td>\n",
       "      <td>NaN</td>\n",
       "      <td>(y, x)</td>\n",
       "    </tr>\n",
       "    <tr>\n",
       "      <th>modis_mcd43a4_tile</th>\n",
       "      <td>MODIS 500 metre MCD43A4 Collection 006</td>\n",
       "      <td>MCD43A4</td>\n",
       "      <td>PROJCS[\"unnamed\",GEOGCS[\"Unknown datum based u...</td>\n",
       "      <td>NaN</td>\n",
       "      <td>(y, x)</td>\n",
       "    </tr>\n",
       "  </tbody>\n",
       "</table>\n",
       "</div>"
      ],
      "text/plain": [
       "                                               description product_type  \\\n",
       "name                                                                      \n",
       "modis_mcd43a1_tile  MODIS 500 metre MCD43A1 Collection 006      MCD43A1   \n",
       "modis_mcd43a2_tile  MODIS 500 metre MCD43A2 Collection 006      MCD43A2   \n",
       "modis_mcd43a3_tile  MODIS 500 metre MCD43A3 Collection 006      MCD43A3   \n",
       "modis_mcd43a4_tile  MODIS 500 metre MCD43A4 Collection 006      MCD43A4   \n",
       "\n",
       "                                                                  crs  \\\n",
       "name                                                                    \n",
       "modis_mcd43a1_tile  PROJCS[\"unnamed\",GEOGCS[\"Unknown datum based u...   \n",
       "modis_mcd43a2_tile  PROJCS[\"unnamed\",GEOGCS[\"Unknown datum based u...   \n",
       "modis_mcd43a3_tile  PROJCS[\"unnamed\",GEOGCS[\"Unknown datum based u...   \n",
       "modis_mcd43a4_tile  PROJCS[\"unnamed\",GEOGCS[\"Unknown datum based u...   \n",
       "\n",
       "                    resolution spatial_dimensions  \n",
       "name                                               \n",
       "modis_mcd43a1_tile         NaN             (y, x)  \n",
       "modis_mcd43a2_tile         NaN             (y, x)  \n",
       "modis_mcd43a3_tile         NaN             (y, x)  \n",
       "modis_mcd43a4_tile         NaN             (y, x)  "
      ]
     },
     "execution_count": 2,
     "metadata": {},
     "output_type": "execute_result"
    }
   ],
   "source": [
    "import datacube\n",
    "dc = datacube.Datacube(app='load-data-example')\n",
    "\n",
    "\n",
    "# List metadata for all Landsat \n",
    "dc_products = dc.list_products()\n",
    "display_columns = ['name', 'description', 'product_type', 'crs', 'resolution', 'spatial_dimensions']\n",
    "dc_products[dc_products['name'].str.contains(\"modis\")][display_columns].set_index('name')"
   ]
  },
  {
   "cell_type": "code",
   "execution_count": 4,
   "metadata": {},
   "outputs": [],
   "source": [
    "# Define temporal and spatial extents to pass to `dc.load` for the data extraction:\n",
    "query = {'lat': (-35.25, -35.35),\n",
    "         'lon': (149.05, 149.17),\n",
    "         'time':('2018-09-01', '2018-09-01'),\n",
    "         'output_crs': 'epsg:3577',\n",
    "         'resolution': (-500,500)}"
   ]
  },
  {
   "cell_type": "code",
   "execution_count": 5,
   "metadata": {},
   "outputs": [],
   "source": [
    "data = dc.load(product='modis_mcd43a4_tile', **query, group_by='solar_day')\n"
   ]
  },
  {
   "cell_type": "code",
   "execution_count": 6,
   "metadata": {},
   "outputs": [
    {
     "data": {
      "text/plain": [
       "<xarray.Dataset>\n",
       "Dimensions:                                   (time: 4, x: 26, y: 26)\n",
       "Coordinates:\n",
       "  * time                                      (time) datetime64[ns] 2018-08-24T23:59:59.999999 ... 2018-09-05T23:59:59.999999\n",
       "  * y                                         (y) float64 -3.953e+06 ... -3.966e+06\n",
       "  * x                                         (x) float64 1.542e+06 ... 1.555e+06\n",
       "Data variables:\n",
       "    BRDF_Albedo_Band_Mandatory_Quality_Band1  (time, y, x) uint8 1 1 1 ... 1 1 0\n",
       "    BRDF_Albedo_Band_Mandatory_Quality_Band2  (time, y, x) uint8 0 1 1 ... 1 1 0\n",
       "    BRDF_Albedo_Band_Mandatory_Quality_Band3  (time, y, x) uint8 1 1 1 ... 1 1 0\n",
       "    BRDF_Albedo_Band_Mandatory_Quality_Band4  (time, y, x) uint8 1 1 1 ... 1 1 0\n",
       "    BRDF_Albedo_Band_Mandatory_Quality_Band5  (time, y, x) uint8 0 1 1 ... 1 1 0\n",
       "    BRDF_Albedo_Band_Mandatory_Quality_Band6  (time, y, x) uint8 1 1 1 ... 1 1 0\n",
       "    BRDF_Albedo_Band_Mandatory_Quality_Band7  (time, y, x) uint8 1 1 1 ... 1 1 0\n",
       "    Nadir_Reflectance_Band1                   (time, y, x) int16 730 ... 1263\n",
       "    Nadir_Reflectance_Band2                   (time, y, x) int16 2225 ... 2640\n",
       "    Nadir_Reflectance_Band3                   (time, y, x) int16 391 400 ... 696\n",
       "    Nadir_Reflectance_Band4                   (time, y, x) int16 598 ... 1017\n",
       "    Nadir_Reflectance_Band5                   (time, y, x) int16 3023 ... 3885\n",
       "    Nadir_Reflectance_Band6                   (time, y, x) int16 2631 ... 4563\n",
       "    Nadir_Reflectance_Band7                   (time, y, x) int16 1297 ... 3149\n",
       "Attributes:\n",
       "    crs:      epsg:3577"
      ]
     },
     "execution_count": 6,
     "metadata": {},
     "output_type": "execute_result"
    }
   ],
   "source": [
    "data\n"
   ]
  },
  {
   "cell_type": "code",
   "execution_count": 7,
   "metadata": {},
   "outputs": [
    {
     "ename": "KeyError",
     "evalue": "'red'",
     "output_type": "error",
     "traceback": [
      "\u001b[0;31m\u001b[0m",
      "\u001b[0;31mKeyError\u001b[0mTraceback (most recent call last)",
      "\u001b[0;32m~/.local/lib/python3.6/site-packages/xarray/core/dataset.py\u001b[0m in \u001b[0;36m_copy_listed\u001b[0;34m(self, names)\u001b[0m\n\u001b[1;32m    878\u001b[0m             \u001b[0;32mtry\u001b[0m\u001b[0;34m:\u001b[0m\u001b[0;34m\u001b[0m\u001b[0;34m\u001b[0m\u001b[0m\n\u001b[0;32m--> 879\u001b[0;31m                 \u001b[0mvariables\u001b[0m\u001b[0;34m[\u001b[0m\u001b[0mname\u001b[0m\u001b[0;34m]\u001b[0m \u001b[0;34m=\u001b[0m \u001b[0mself\u001b[0m\u001b[0;34m.\u001b[0m\u001b[0m_variables\u001b[0m\u001b[0;34m[\u001b[0m\u001b[0mname\u001b[0m\u001b[0;34m]\u001b[0m\u001b[0;34m\u001b[0m\u001b[0;34m\u001b[0m\u001b[0m\n\u001b[0m\u001b[1;32m    880\u001b[0m             \u001b[0;32mexcept\u001b[0m \u001b[0mKeyError\u001b[0m\u001b[0;34m:\u001b[0m\u001b[0;34m\u001b[0m\u001b[0;34m\u001b[0m\u001b[0m\n",
      "\u001b[0;31mKeyError\u001b[0m: 'red'",
      "\nDuring handling of the above exception, another exception occurred:\n",
      "\u001b[0;31mKeyError\u001b[0mTraceback (most recent call last)",
      "\u001b[0;32m<ipython-input-7-ec442219138a>\u001b[0m in \u001b[0;36m<module>\u001b[0;34m\u001b[0m\n\u001b[1;32m      8\u001b[0m \u001b[0;34m\u001b[0m\u001b[0m\n\u001b[1;32m      9\u001b[0m \u001b[0;31m# Select a time slice from the EO data and combine the bands into a 3 band array\u001b[0m\u001b[0;34m\u001b[0m\u001b[0;34m\u001b[0m\u001b[0;34m\u001b[0m\u001b[0m\n\u001b[0;32m---> 10\u001b[0;31m \u001b[0mimage_array\u001b[0m \u001b[0;34m=\u001b[0m \u001b[0mdata\u001b[0m\u001b[0;34m[\u001b[0m\u001b[0;34m[\u001b[0m\u001b[0;34m'red'\u001b[0m\u001b[0;34m,\u001b[0m \u001b[0;34m'green'\u001b[0m\u001b[0;34m,\u001b[0m \u001b[0;34m'blue'\u001b[0m\u001b[0;34m]\u001b[0m\u001b[0;34m]\u001b[0m\u001b[0;34m.\u001b[0m\u001b[0misel\u001b[0m\u001b[0;34m(\u001b[0m\u001b[0mtime\u001b[0m\u001b[0;34m=\u001b[0m\u001b[0;36m0\u001b[0m\u001b[0;34m)\u001b[0m\u001b[0;34m.\u001b[0m\u001b[0mto_array\u001b[0m\u001b[0;34m(\u001b[0m\u001b[0;34m)\u001b[0m\u001b[0;34m\u001b[0m\u001b[0;34m\u001b[0m\u001b[0m\n\u001b[0m\u001b[1;32m     11\u001b[0m \u001b[0;31m# Show the image\u001b[0m\u001b[0;34m\u001b[0m\u001b[0;34m\u001b[0m\u001b[0;34m\u001b[0m\u001b[0m\n\u001b[1;32m     12\u001b[0m \u001b[0mimage_array\u001b[0m\u001b[0;34m.\u001b[0m\u001b[0mplot\u001b[0m\u001b[0;34m.\u001b[0m\u001b[0mimshow\u001b[0m\u001b[0;34m(\u001b[0m\u001b[0mrobust\u001b[0m\u001b[0;34m=\u001b[0m\u001b[0;32mTrue\u001b[0m\u001b[0;34m,\u001b[0m \u001b[0mfigsize\u001b[0m\u001b[0;34m=\u001b[0m\u001b[0;34m(\u001b[0m\u001b[0;36m8\u001b[0m\u001b[0;34m,\u001b[0m \u001b[0;36m8\u001b[0m\u001b[0;34m)\u001b[0m\u001b[0;34m)\u001b[0m\u001b[0;34m\u001b[0m\u001b[0;34m\u001b[0m\u001b[0m\n",
      "\u001b[0;32m~/.local/lib/python3.6/site-packages/xarray/core/dataset.py\u001b[0m in \u001b[0;36m__getitem__\u001b[0;34m(self, key)\u001b[0m\n\u001b[1;32m    970\u001b[0m             \u001b[0;32mreturn\u001b[0m \u001b[0mself\u001b[0m\u001b[0;34m.\u001b[0m\u001b[0m_construct_dataarray\u001b[0m\u001b[0;34m(\u001b[0m\u001b[0mkey\u001b[0m\u001b[0;34m)\u001b[0m\u001b[0;34m\u001b[0m\u001b[0;34m\u001b[0m\u001b[0m\n\u001b[1;32m    971\u001b[0m         \u001b[0;32melse\u001b[0m\u001b[0;34m:\u001b[0m\u001b[0;34m\u001b[0m\u001b[0;34m\u001b[0m\u001b[0m\n\u001b[0;32m--> 972\u001b[0;31m             \u001b[0;32mreturn\u001b[0m \u001b[0mself\u001b[0m\u001b[0;34m.\u001b[0m\u001b[0m_copy_listed\u001b[0m\u001b[0;34m(\u001b[0m\u001b[0mnp\u001b[0m\u001b[0;34m.\u001b[0m\u001b[0masarray\u001b[0m\u001b[0;34m(\u001b[0m\u001b[0mkey\u001b[0m\u001b[0;34m)\u001b[0m\u001b[0;34m)\u001b[0m\u001b[0;34m\u001b[0m\u001b[0;34m\u001b[0m\u001b[0m\n\u001b[0m\u001b[1;32m    973\u001b[0m \u001b[0;34m\u001b[0m\u001b[0m\n\u001b[1;32m    974\u001b[0m     \u001b[0;32mdef\u001b[0m \u001b[0m__setitem__\u001b[0m\u001b[0;34m(\u001b[0m\u001b[0mself\u001b[0m\u001b[0;34m,\u001b[0m \u001b[0mkey\u001b[0m\u001b[0;34m,\u001b[0m \u001b[0mvalue\u001b[0m\u001b[0;34m)\u001b[0m\u001b[0;34m:\u001b[0m\u001b[0;34m\u001b[0m\u001b[0;34m\u001b[0m\u001b[0m\n",
      "\u001b[0;32m~/.local/lib/python3.6/site-packages/xarray/core/dataset.py\u001b[0m in \u001b[0;36m_copy_listed\u001b[0;34m(self, names)\u001b[0m\n\u001b[1;32m    880\u001b[0m             \u001b[0;32mexcept\u001b[0m \u001b[0mKeyError\u001b[0m\u001b[0;34m:\u001b[0m\u001b[0;34m\u001b[0m\u001b[0;34m\u001b[0m\u001b[0m\n\u001b[1;32m    881\u001b[0m                 ref_name, var_name, var = _get_virtual_variable(\n\u001b[0;32m--> 882\u001b[0;31m                     self._variables, name, self._level_coords, self.dims)\n\u001b[0m\u001b[1;32m    883\u001b[0m                 \u001b[0mvariables\u001b[0m\u001b[0;34m[\u001b[0m\u001b[0mvar_name\u001b[0m\u001b[0;34m]\u001b[0m \u001b[0;34m=\u001b[0m \u001b[0mvar\u001b[0m\u001b[0;34m\u001b[0m\u001b[0;34m\u001b[0m\u001b[0m\n\u001b[1;32m    884\u001b[0m                 \u001b[0;32mif\u001b[0m \u001b[0mref_name\u001b[0m \u001b[0;32min\u001b[0m \u001b[0mself\u001b[0m\u001b[0;34m.\u001b[0m\u001b[0m_coord_names\u001b[0m \u001b[0;32mor\u001b[0m \u001b[0mref_name\u001b[0m \u001b[0;32min\u001b[0m \u001b[0mself\u001b[0m\u001b[0;34m.\u001b[0m\u001b[0mdims\u001b[0m\u001b[0;34m:\u001b[0m\u001b[0;34m\u001b[0m\u001b[0;34m\u001b[0m\u001b[0m\n",
      "\u001b[0;32m~/.local/lib/python3.6/site-packages/xarray/core/dataset.py\u001b[0m in \u001b[0;36m_get_virtual_variable\u001b[0;34m(variables, key, level_vars, dim_sizes)\u001b[0m\n\u001b[1;32m     72\u001b[0m         \u001b[0mref_var\u001b[0m \u001b[0;34m=\u001b[0m \u001b[0mdim_var\u001b[0m\u001b[0;34m.\u001b[0m\u001b[0mto_index_variable\u001b[0m\u001b[0;34m(\u001b[0m\u001b[0;34m)\u001b[0m\u001b[0;34m.\u001b[0m\u001b[0mget_level_variable\u001b[0m\u001b[0;34m(\u001b[0m\u001b[0mref_name\u001b[0m\u001b[0;34m)\u001b[0m\u001b[0;34m\u001b[0m\u001b[0;34m\u001b[0m\u001b[0m\n\u001b[1;32m     73\u001b[0m     \u001b[0;32melse\u001b[0m\u001b[0;34m:\u001b[0m\u001b[0;34m\u001b[0m\u001b[0;34m\u001b[0m\u001b[0m\n\u001b[0;32m---> 74\u001b[0;31m         \u001b[0mref_var\u001b[0m \u001b[0;34m=\u001b[0m \u001b[0mvariables\u001b[0m\u001b[0;34m[\u001b[0m\u001b[0mref_name\u001b[0m\u001b[0;34m]\u001b[0m\u001b[0;34m\u001b[0m\u001b[0;34m\u001b[0m\u001b[0m\n\u001b[0m\u001b[1;32m     75\u001b[0m \u001b[0;34m\u001b[0m\u001b[0m\n\u001b[1;32m     76\u001b[0m     \u001b[0;32mif\u001b[0m \u001b[0mvar_name\u001b[0m \u001b[0;32mis\u001b[0m \u001b[0;32mNone\u001b[0m\u001b[0;34m:\u001b[0m\u001b[0;34m\u001b[0m\u001b[0;34m\u001b[0m\u001b[0m\n",
      "\u001b[0;31mKeyError\u001b[0m: 'red'"
     ]
    }
   ],
   "source": [
    "from datacube.storage import masking\n",
    "\n",
    "# Set all nodata pixels to `NaN`:\n",
    "data = masking.mask_invalid_data(data)\n",
    "# Set all invalid data to `NaN` - valid range for USRS SR is 0 to 10000, but the surface reflectance product can have values just outside this range\n",
    "# We remove them so the image drawn isn't impacted by them\n",
    "data = data.where((data >= 0) & (data<=10000))\n",
    "\n",
    "# Select a time slice from the EO data and combine the bands into a 3 band array\n",
    "image_array = data[['Nadir_Reflectance_Band1', 'Nadir_Reflectance_Band2', 'Nadir_Reflectance_Band3']].isel(time=0).to_array()\n",
    "# Show the image\n",
    "image_array.plot.imshow(robust=True, figsize=(8, 8))\n"
   ]
  },
  {
   "cell_type": "markdown",
   "metadata": {
    "raw_mimetype": "text/restructuredtext"
   },
   "source": [
    "More information on the load function see the API docs: :py:meth:`~datacube.Datacube.load`"
   ]
  },
  {
   "cell_type": "markdown",
   "metadata": {},
   "source": [
    "# Show/Hide error information\n",
    "Yep, here is it again in case you need it"
   ]
  },
  {
   "cell_type": "code",
   "execution_count": 6,
   "metadata": {},
   "outputs": [
    {
     "data": {
      "text/html": [
       "<script>\n",
       "code_show_err=false; \n",
       "function code_toggle_err() {\n",
       " if (code_show_err){\n",
       " $('div.output_error').hide();\n",
       " $('div.output_stderr').hide();\n",
       " } else {\n",
       " $('div.output_error').show();\n",
       " $('div.output_stderr').show();\n",
       " }\n",
       " code_show_err = !code_show_err\n",
       "} \n",
       "$( document ).ready(code_toggle_err);\n",
       "</script>\n",
       "<form action=\"javascript:code_toggle_err()\"><input type=\"submit\" value=\"Click here to toggle on/off the error output.\"></form>"
      ],
      "text/plain": [
       "<IPython.core.display.HTML object>"
      ]
     },
     "execution_count": 6,
     "metadata": {},
     "output_type": "execute_result"
    }
   ],
   "source": [
    "from IPython.display import HTML\n",
    "\n",
    "HTML('''<script>\n",
    "code_show_err=false; \n",
    "function code_toggle_err() {\n",
    " if (code_show_err){\n",
    " $('div.output_error').hide();\n",
    " $('div.output_stderr').hide();\n",
    " } else {\n",
    " $('div.output_error').show();\n",
    " $('div.output_stderr').show();\n",
    " }\n",
    " code_show_err = !code_show_err\n",
    "} \n",
    "$( document ).ready(code_toggle_err);\n",
    "</script>\n",
    "<form action=\"javascript:code_toggle_err()\"><input type=\"submit\" value=\"Click here to toggle on/off the error output.\"></form>''')\n"
   ]
  }
 ],
 "metadata": {
  "kernelspec": {
   "display_name": "Python 3",
   "language": "python",
   "name": "python3"
  },
  "language_info": {
   "codemirror_mode": {
    "name": "ipython",
    "version": 3
   },
   "file_extension": ".py",
   "mimetype": "text/x-python",
   "name": "python",
   "nbconvert_exporter": "python",
   "pygments_lexer": "ipython3",
   "version": "3.6.7"
  },
  "toc": {
   "base_numbering": 1,
   "nav_menu": {},
   "number_sections": true,
   "sideBar": true,
   "skip_h1_title": false,
   "title_cell": "Table of Contents",
   "title_sidebar": "Contents",
   "toc_cell": false,
   "toc_position": {},
   "toc_section_display": true,
   "toc_window_display": false
  }
 },
 "nbformat": 4,
 "nbformat_minor": 1
}
