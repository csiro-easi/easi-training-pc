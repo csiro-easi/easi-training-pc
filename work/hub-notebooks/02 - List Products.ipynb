{
 "cells": [
  {
   "cell_type": "markdown",
   "metadata": {},
   "source": [
    "# List Products & Measurements\n",
    "\n",
    "Now you have a working datacube with some data in it let's start doing some real work.\n",
    "\n",
    "Every datacube program beings the same way, by importing the datacube library.\n",
    "Whilst we are at it we'll also import some aditional libraries and set some parameters to ensure our pandas tables display nicely in the notebook (you might recall we mentioned this would be a cell you see often in the tutorials in 01 - Getting Started)\n"
   ]
  },
  {
   "cell_type": "code",
   "execution_count": 1,
   "metadata": {},
   "outputs": [],
   "source": [
    "# A jupyter magic to ensure out matploblib displays are inline in the notebook\n",
    "%matplotlib inline\n",
    "# Import pandas and set some parameters so the cells display nicely in our notebook\n",
    "import pandas\n",
    "pandas.set_option('display.max_colwidth', 200)\n",
    "pandas.set_option('display.max_rows', None)"
   ]
  },
  {
   "cell_type": "code",
   "execution_count": 2,
   "metadata": {},
   "outputs": [
    {
     "name": "stderr",
     "output_type": "stream",
     "text": [
      "/home/jovyan/.local/lib/python3.6/site-packages/psycopg2/__init__.py:144: UserWarning: The psycopg2 wheel package will be renamed from release 2.8; in order to keep installing from binary please use \"pip install psycopg2-binary\" instead. For details see: <http://initd.org/psycopg/docs/install.html#binary-install-from-pypi>.\n",
      "  \"\"\")\n"
     ]
    }
   ],
   "source": [
    "# import the datacube - really quite obvious\n",
    "import datacube"
   ]
  },
  {
   "cell_type": "markdown",
   "metadata": {},
   "source": [
    "Now we create our first datacube object so we can findout what products are in the datacube, load data and do stuff...`dc` will be the object which provides our connection to the datacube"
   ]
  },
  {
   "cell_type": "code",
   "execution_count": 3,
   "metadata": {},
   "outputs": [],
   "source": [
    "dc = datacube.Datacube()"
   ]
  },
  {
   "cell_type": "markdown",
   "metadata": {},
   "source": [
    "## List Products\n",
    "We can get all the products this datacube supports as a `pandas DataFrame`. Just because a datacube supports a product doesn't mean the data exists. It means it can contain this type of data."
   ]
  },
  {
   "cell_type": "code",
   "execution_count": 4,
   "metadata": {},
   "outputs": [],
   "source": [
    "products = dc.list_products()"
   ]
  },
  {
   "cell_type": "markdown",
   "metadata": {},
   "source": [
    "First lets check what information is available, there are quite a lot of columns"
   ]
  },
  {
   "cell_type": "code",
   "execution_count": 5,
   "metadata": {},
   "outputs": [
    {
     "data": {
      "text/plain": [
       "['name',\n",
       " 'description',\n",
       " 'creation_time',\n",
       " 'instrument',\n",
       " 'product_type',\n",
       " 'time',\n",
       " 'lon',\n",
       " 'lat',\n",
       " 'format',\n",
       " 'label',\n",
       " 'platform',\n",
       " 'crs',\n",
       " 'resolution',\n",
       " 'tile_size',\n",
       " 'spatial_dimensions']"
      ]
     },
     "execution_count": 5,
     "metadata": {},
     "output_type": "execute_result"
    }
   ],
   "source": [
    "products.columns.tolist()"
   ]
  },
  {
   "cell_type": "markdown",
   "metadata": {},
   "source": [
    "We don't want to see most of these columns, so we will limit the `DataFrame` to just a few:"
   ]
  },
  {
   "cell_type": "code",
   "execution_count": 6,
   "metadata": {
    "scrolled": true
   },
   "outputs": [
    {
     "data": {
      "text/html": [
       "<div>\n",
       "<style scoped>\n",
       "    .dataframe tbody tr th:only-of-type {\n",
       "        vertical-align: middle;\n",
       "    }\n",
       "\n",
       "    .dataframe tbody tr th {\n",
       "        vertical-align: top;\n",
       "    }\n",
       "\n",
       "    .dataframe thead th {\n",
       "        text-align: right;\n",
       "    }\n",
       "</style>\n",
       "<table border=\"1\" class=\"dataframe\">\n",
       "  <thead>\n",
       "    <tr style=\"text-align: right;\">\n",
       "      <th></th>\n",
       "      <th>name</th>\n",
       "      <th>description</th>\n",
       "      <th>platform</th>\n",
       "      <th>instrument</th>\n",
       "      <th>crs</th>\n",
       "      <th>resolution</th>\n",
       "    </tr>\n",
       "    <tr>\n",
       "      <th>id</th>\n",
       "      <th></th>\n",
       "      <th></th>\n",
       "      <th></th>\n",
       "      <th></th>\n",
       "      <th></th>\n",
       "      <th></th>\n",
       "    </tr>\n",
       "  </thead>\n",
       "  <tbody>\n",
       "    <tr>\n",
       "      <th>1</th>\n",
       "      <td>ls8_usgs_sr_scene</td>\n",
       "      <td>Landsat 8 USGS Collection 1 Higher Level SR scene proessed using LaSRC. 30m UTM based projection.</td>\n",
       "      <td>LANDSAT_8</td>\n",
       "      <td>OLI_TIRS</td>\n",
       "      <td>NaN</td>\n",
       "      <td>NaN</td>\n",
       "    </tr>\n",
       "  </tbody>\n",
       "</table>\n",
       "</div>"
      ],
      "text/plain": [
       "                 name  \\\n",
       "id                      \n",
       "1   ls8_usgs_sr_scene   \n",
       "\n",
       "                                                                                          description  \\\n",
       "id                                                                                                      \n",
       "1   Landsat 8 USGS Collection 1 Higher Level SR scene proessed using LaSRC. 30m UTM based projection.   \n",
       "\n",
       "     platform instrument  crs  resolution  \n",
       "id                                         \n",
       "1   LANDSAT_8   OLI_TIRS  NaN         NaN  "
      ]
     },
     "execution_count": 6,
     "metadata": {},
     "output_type": "execute_result"
    }
   ],
   "source": [
    "display_columns = ['name', 'description', 'platform', 'instrument', 'crs', 'resolution']\n",
    "\n",
    "products[display_columns]\n",
    "\n"
   ]
  },
  {
   "cell_type": "markdown",
   "metadata": {},
   "source": [
    "You can also supply a boolean vector to filter these further by row content. We will filter just those rows that have a name of `ls8_usgs_sr_scene`"
   ]
  },
  {
   "cell_type": "code",
   "execution_count": 7,
   "metadata": {},
   "outputs": [
    {
     "data": {
      "text/html": [
       "<div>\n",
       "<style scoped>\n",
       "    .dataframe tbody tr th:only-of-type {\n",
       "        vertical-align: middle;\n",
       "    }\n",
       "\n",
       "    .dataframe tbody tr th {\n",
       "        vertical-align: top;\n",
       "    }\n",
       "\n",
       "    .dataframe thead th {\n",
       "        text-align: right;\n",
       "    }\n",
       "</style>\n",
       "<table border=\"1\" class=\"dataframe\">\n",
       "  <thead>\n",
       "    <tr style=\"text-align: right;\">\n",
       "      <th></th>\n",
       "      <th>name</th>\n",
       "      <th>description</th>\n",
       "      <th>platform</th>\n",
       "      <th>instrument</th>\n",
       "      <th>crs</th>\n",
       "      <th>resolution</th>\n",
       "    </tr>\n",
       "    <tr>\n",
       "      <th>id</th>\n",
       "      <th></th>\n",
       "      <th></th>\n",
       "      <th></th>\n",
       "      <th></th>\n",
       "      <th></th>\n",
       "      <th></th>\n",
       "    </tr>\n",
       "  </thead>\n",
       "  <tbody>\n",
       "    <tr>\n",
       "      <th>1</th>\n",
       "      <td>ls8_usgs_sr_scene</td>\n",
       "      <td>Landsat 8 USGS Collection 1 Higher Level SR scene proessed using LaSRC. 30m UTM based projection.</td>\n",
       "      <td>LANDSAT_8</td>\n",
       "      <td>OLI_TIRS</td>\n",
       "      <td>NaN</td>\n",
       "      <td>NaN</td>\n",
       "    </tr>\n",
       "  </tbody>\n",
       "</table>\n",
       "</div>"
      ],
      "text/plain": [
       "                 name  \\\n",
       "id                      \n",
       "1   ls8_usgs_sr_scene   \n",
       "\n",
       "                                                                                          description  \\\n",
       "id                                                                                                      \n",
       "1   Landsat 8 USGS Collection 1 Higher Level SR scene proessed using LaSRC. 30m UTM based projection.   \n",
       "\n",
       "     platform instrument  crs  resolution  \n",
       "id                                         \n",
       "1   LANDSAT_8   OLI_TIRS  NaN         NaN  "
      ]
     },
     "execution_count": 7,
     "metadata": {},
     "output_type": "execute_result"
    }
   ],
   "source": [
    "products[products['name'] == 'ls8_usgs_sr_scene'][display_columns]"
   ]
  },
  {
   "cell_type": "markdown",
   "metadata": {},
   "source": [
    "___Play tip:___ _Pandas is a very powerful library and can do a lot more than described above. You can find more information at pandas.pydata.org._"
   ]
  },
  {
   "cell_type": "markdown",
   "metadata": {},
   "source": [
    "## List Measurements"
   ]
  },
  {
   "cell_type": "markdown",
   "metadata": {},
   "source": [
    "Each product type will contain a range of measurements that it supports e.g. optical bands, pixel quality, etc. Let's take a look at what is available for one of our product types:"
   ]
  },
  {
   "cell_type": "code",
   "execution_count": 8,
   "metadata": {},
   "outputs": [
    {
     "data": {
      "text/plain": [
       "['aliases', 'dtype', 'flags_definition', 'name', 'nodata', 'units']"
      ]
     },
     "execution_count": 8,
     "metadata": {},
     "output_type": "execute_result"
    }
   ],
   "source": [
    "# Get the measurements\n",
    "measurements = dc.list_measurements()\n",
    "# Let's look at all of the available measurement attributes in raw form\n",
    "measurements.columns.tolist()"
   ]
  },
  {
   "cell_type": "code",
   "execution_count": 9,
   "metadata": {},
   "outputs": [
    {
     "data": {
      "text/html": [
       "<div>\n",
       "<style scoped>\n",
       "    .dataframe tbody tr th:only-of-type {\n",
       "        vertical-align: middle;\n",
       "    }\n",
       "\n",
       "    .dataframe tbody tr th {\n",
       "        vertical-align: top;\n",
       "    }\n",
       "\n",
       "    .dataframe thead th {\n",
       "        text-align: right;\n",
       "    }\n",
       "</style>\n",
       "<table border=\"1\" class=\"dataframe\">\n",
       "  <thead>\n",
       "    <tr style=\"text-align: right;\">\n",
       "      <th></th>\n",
       "      <th></th>\n",
       "      <th>units</th>\n",
       "      <th>nodata</th>\n",
       "      <th>aliases</th>\n",
       "    </tr>\n",
       "    <tr>\n",
       "      <th>product</th>\n",
       "      <th>measurement</th>\n",
       "      <th></th>\n",
       "      <th></th>\n",
       "      <th></th>\n",
       "    </tr>\n",
       "  </thead>\n",
       "  <tbody>\n",
       "    <tr>\n",
       "      <th rowspan=\"10\" valign=\"top\">ls8_usgs_sr_scene</th>\n",
       "      <th>coastal_aerosol</th>\n",
       "      <td>reflectance</td>\n",
       "      <td>-9999</td>\n",
       "      <td>[band_1, sr_band1]</td>\n",
       "    </tr>\n",
       "    <tr>\n",
       "      <th>blue</th>\n",
       "      <td>reflectance</td>\n",
       "      <td>-9999</td>\n",
       "      <td>[band_2, sr_band2]</td>\n",
       "    </tr>\n",
       "    <tr>\n",
       "      <th>green</th>\n",
       "      <td>reflectance</td>\n",
       "      <td>-9999</td>\n",
       "      <td>[band_3, sr_band3]</td>\n",
       "    </tr>\n",
       "    <tr>\n",
       "      <th>red</th>\n",
       "      <td>reflectance</td>\n",
       "      <td>-9999</td>\n",
       "      <td>[band_4, sr_band4]</td>\n",
       "    </tr>\n",
       "    <tr>\n",
       "      <th>nir</th>\n",
       "      <td>reflectance</td>\n",
       "      <td>-9999</td>\n",
       "      <td>[band_5, sr_band5]</td>\n",
       "    </tr>\n",
       "    <tr>\n",
       "      <th>swir1</th>\n",
       "      <td>reflectance</td>\n",
       "      <td>-9999</td>\n",
       "      <td>[band_6, sr_band6]</td>\n",
       "    </tr>\n",
       "    <tr>\n",
       "      <th>swir2</th>\n",
       "      <td>reflectance</td>\n",
       "      <td>-9999</td>\n",
       "      <td>[band_7, sr_band7]</td>\n",
       "    </tr>\n",
       "    <tr>\n",
       "      <th>pixel_qa</th>\n",
       "      <td>bit_index</td>\n",
       "      <td>1</td>\n",
       "      <td>[pixel_qa]</td>\n",
       "    </tr>\n",
       "    <tr>\n",
       "      <th>sr_aerosol</th>\n",
       "      <td>bit_index</td>\n",
       "      <td>0</td>\n",
       "      <td>[sr_aerosol_qa, aerosol_qa, aerosol]</td>\n",
       "    </tr>\n",
       "    <tr>\n",
       "      <th>radsat_qa</th>\n",
       "      <td>bit_index</td>\n",
       "      <td>1</td>\n",
       "      <td>[radsat_qa]</td>\n",
       "    </tr>\n",
       "  </tbody>\n",
       "</table>\n",
       "</div>"
      ],
      "text/plain": [
       "                                         units  nodata  \\\n",
       "product           measurement                            \n",
       "ls8_usgs_sr_scene coastal_aerosol  reflectance   -9999   \n",
       "                  blue             reflectance   -9999   \n",
       "                  green            reflectance   -9999   \n",
       "                  red              reflectance   -9999   \n",
       "                  nir              reflectance   -9999   \n",
       "                  swir1            reflectance   -9999   \n",
       "                  swir2            reflectance   -9999   \n",
       "                  pixel_qa           bit_index       1   \n",
       "                  sr_aerosol         bit_index       0   \n",
       "                  radsat_qa          bit_index       1   \n",
       "\n",
       "                                                                aliases  \n",
       "product           measurement                                            \n",
       "ls8_usgs_sr_scene coastal_aerosol                    [band_1, sr_band1]  \n",
       "                  blue                               [band_2, sr_band2]  \n",
       "                  green                              [band_3, sr_band3]  \n",
       "                  red                                [band_4, sr_band4]  \n",
       "                  nir                                [band_5, sr_band5]  \n",
       "                  swir1                              [band_6, sr_band6]  \n",
       "                  swir2                              [band_7, sr_band7]  \n",
       "                  pixel_qa                                   [pixel_qa]  \n",
       "                  sr_aerosol       [sr_aerosol_qa, aerosol_qa, aerosol]  \n",
       "                  radsat_qa                                 [radsat_qa]  "
      ]
     },
     "execution_count": 9,
     "metadata": {},
     "output_type": "execute_result"
    }
   ],
   "source": [
    "# We can restrict which measurement attributes are displayed to reduce clutter\n",
    "display_columns = ['units', 'nodata', 'aliases']\n",
    "measurements[display_columns]"
   ]
  },
  {
   "cell_type": "markdown",
   "metadata": {},
   "source": [
    "We can look at the measurements for just one product, such as `ls8_usgs_sr_scene`:"
   ]
  },
  {
   "cell_type": "code",
   "execution_count": 10,
   "metadata": {},
   "outputs": [
    {
     "data": {
      "text/html": [
       "<div>\n",
       "<style scoped>\n",
       "    .dataframe tbody tr th:only-of-type {\n",
       "        vertical-align: middle;\n",
       "    }\n",
       "\n",
       "    .dataframe tbody tr th {\n",
       "        vertical-align: top;\n",
       "    }\n",
       "\n",
       "    .dataframe thead th {\n",
       "        text-align: right;\n",
       "    }\n",
       "</style>\n",
       "<table border=\"1\" class=\"dataframe\">\n",
       "  <thead>\n",
       "    <tr style=\"text-align: right;\">\n",
       "      <th></th>\n",
       "      <th>units</th>\n",
       "      <th>nodata</th>\n",
       "      <th>aliases</th>\n",
       "    </tr>\n",
       "    <tr>\n",
       "      <th>measurement</th>\n",
       "      <th></th>\n",
       "      <th></th>\n",
       "      <th></th>\n",
       "    </tr>\n",
       "  </thead>\n",
       "  <tbody>\n",
       "    <tr>\n",
       "      <th>coastal_aerosol</th>\n",
       "      <td>reflectance</td>\n",
       "      <td>-9999</td>\n",
       "      <td>[band_1, sr_band1]</td>\n",
       "    </tr>\n",
       "    <tr>\n",
       "      <th>blue</th>\n",
       "      <td>reflectance</td>\n",
       "      <td>-9999</td>\n",
       "      <td>[band_2, sr_band2]</td>\n",
       "    </tr>\n",
       "    <tr>\n",
       "      <th>green</th>\n",
       "      <td>reflectance</td>\n",
       "      <td>-9999</td>\n",
       "      <td>[band_3, sr_band3]</td>\n",
       "    </tr>\n",
       "    <tr>\n",
       "      <th>red</th>\n",
       "      <td>reflectance</td>\n",
       "      <td>-9999</td>\n",
       "      <td>[band_4, sr_band4]</td>\n",
       "    </tr>\n",
       "    <tr>\n",
       "      <th>nir</th>\n",
       "      <td>reflectance</td>\n",
       "      <td>-9999</td>\n",
       "      <td>[band_5, sr_band5]</td>\n",
       "    </tr>\n",
       "    <tr>\n",
       "      <th>swir1</th>\n",
       "      <td>reflectance</td>\n",
       "      <td>-9999</td>\n",
       "      <td>[band_6, sr_band6]</td>\n",
       "    </tr>\n",
       "    <tr>\n",
       "      <th>swir2</th>\n",
       "      <td>reflectance</td>\n",
       "      <td>-9999</td>\n",
       "      <td>[band_7, sr_band7]</td>\n",
       "    </tr>\n",
       "    <tr>\n",
       "      <th>pixel_qa</th>\n",
       "      <td>bit_index</td>\n",
       "      <td>1</td>\n",
       "      <td>[pixel_qa]</td>\n",
       "    </tr>\n",
       "    <tr>\n",
       "      <th>sr_aerosol</th>\n",
       "      <td>bit_index</td>\n",
       "      <td>0</td>\n",
       "      <td>[sr_aerosol_qa, aerosol_qa, aerosol]</td>\n",
       "    </tr>\n",
       "    <tr>\n",
       "      <th>radsat_qa</th>\n",
       "      <td>bit_index</td>\n",
       "      <td>1</td>\n",
       "      <td>[radsat_qa]</td>\n",
       "    </tr>\n",
       "  </tbody>\n",
       "</table>\n",
       "</div>"
      ],
      "text/plain": [
       "                       units  nodata                               aliases\n",
       "measurement                                                               \n",
       "coastal_aerosol  reflectance   -9999                    [band_1, sr_band1]\n",
       "blue             reflectance   -9999                    [band_2, sr_band2]\n",
       "green            reflectance   -9999                    [band_3, sr_band3]\n",
       "red              reflectance   -9999                    [band_4, sr_band4]\n",
       "nir              reflectance   -9999                    [band_5, sr_band5]\n",
       "swir1            reflectance   -9999                    [band_6, sr_band6]\n",
       "swir2            reflectance   -9999                    [band_7, sr_band7]\n",
       "pixel_qa           bit_index       1                            [pixel_qa]\n",
       "sr_aerosol         bit_index       0  [sr_aerosol_qa, aerosol_qa, aerosol]\n",
       "radsat_qa          bit_index       1                           [radsat_qa]"
      ]
     },
     "execution_count": 10,
     "metadata": {},
     "output_type": "execute_result"
    }
   ],
   "source": [
    "measurements[display_columns].loc['ls8_usgs_sr_scene']"
   ]
  },
  {
   "cell_type": "markdown",
   "metadata": {},
   "source": [
    "As you can see the measurements information includes not only the name of the attributes available but also the nodata values, and possible aliases which can be used to access the same attribute."
   ]
  },
  {
   "cell_type": "markdown",
   "metadata": {},
   "source": [
    "Or we can look at a list of them:"
   ]
  },
  {
   "cell_type": "code",
   "execution_count": 11,
   "metadata": {},
   "outputs": [
    {
     "data": {
      "text/plain": [
       "['ls8_usgs_sr_scene']"
      ]
     },
     "execution_count": 11,
     "metadata": {},
     "output_type": "execute_result"
    }
   ],
   "source": [
    "product_list = products.name.tolist()\n",
    "product_list"
   ]
  },
  {
   "cell_type": "code",
   "execution_count": 12,
   "metadata": {
    "scrolled": true
   },
   "outputs": [
    {
     "data": {
      "text/html": [
       "<div>\n",
       "<style scoped>\n",
       "    .dataframe tbody tr th:only-of-type {\n",
       "        vertical-align: middle;\n",
       "    }\n",
       "\n",
       "    .dataframe tbody tr th {\n",
       "        vertical-align: top;\n",
       "    }\n",
       "\n",
       "    .dataframe thead th {\n",
       "        text-align: right;\n",
       "    }\n",
       "</style>\n",
       "<table border=\"1\" class=\"dataframe\">\n",
       "  <thead>\n",
       "    <tr style=\"text-align: right;\">\n",
       "      <th></th>\n",
       "      <th></th>\n",
       "      <th>units</th>\n",
       "      <th>nodata</th>\n",
       "      <th>aliases</th>\n",
       "    </tr>\n",
       "    <tr>\n",
       "      <th>product</th>\n",
       "      <th>measurement</th>\n",
       "      <th></th>\n",
       "      <th></th>\n",
       "      <th></th>\n",
       "    </tr>\n",
       "  </thead>\n",
       "  <tbody>\n",
       "    <tr>\n",
       "      <th rowspan=\"10\" valign=\"top\">ls8_usgs_sr_scene</th>\n",
       "      <th>coastal_aerosol</th>\n",
       "      <td>reflectance</td>\n",
       "      <td>-9999</td>\n",
       "      <td>[band_1, sr_band1]</td>\n",
       "    </tr>\n",
       "    <tr>\n",
       "      <th>blue</th>\n",
       "      <td>reflectance</td>\n",
       "      <td>-9999</td>\n",
       "      <td>[band_2, sr_band2]</td>\n",
       "    </tr>\n",
       "    <tr>\n",
       "      <th>green</th>\n",
       "      <td>reflectance</td>\n",
       "      <td>-9999</td>\n",
       "      <td>[band_3, sr_band3]</td>\n",
       "    </tr>\n",
       "    <tr>\n",
       "      <th>red</th>\n",
       "      <td>reflectance</td>\n",
       "      <td>-9999</td>\n",
       "      <td>[band_4, sr_band4]</td>\n",
       "    </tr>\n",
       "    <tr>\n",
       "      <th>nir</th>\n",
       "      <td>reflectance</td>\n",
       "      <td>-9999</td>\n",
       "      <td>[band_5, sr_band5]</td>\n",
       "    </tr>\n",
       "    <tr>\n",
       "      <th>swir1</th>\n",
       "      <td>reflectance</td>\n",
       "      <td>-9999</td>\n",
       "      <td>[band_6, sr_band6]</td>\n",
       "    </tr>\n",
       "    <tr>\n",
       "      <th>swir2</th>\n",
       "      <td>reflectance</td>\n",
       "      <td>-9999</td>\n",
       "      <td>[band_7, sr_band7]</td>\n",
       "    </tr>\n",
       "    <tr>\n",
       "      <th>pixel_qa</th>\n",
       "      <td>bit_index</td>\n",
       "      <td>1</td>\n",
       "      <td>[pixel_qa]</td>\n",
       "    </tr>\n",
       "    <tr>\n",
       "      <th>sr_aerosol</th>\n",
       "      <td>bit_index</td>\n",
       "      <td>0</td>\n",
       "      <td>[sr_aerosol_qa, aerosol_qa, aerosol]</td>\n",
       "    </tr>\n",
       "    <tr>\n",
       "      <th>radsat_qa</th>\n",
       "      <td>bit_index</td>\n",
       "      <td>1</td>\n",
       "      <td>[radsat_qa]</td>\n",
       "    </tr>\n",
       "  </tbody>\n",
       "</table>\n",
       "</div>"
      ],
      "text/plain": [
       "                                         units  nodata  \\\n",
       "product           measurement                            \n",
       "ls8_usgs_sr_scene coastal_aerosol  reflectance   -9999   \n",
       "                  blue             reflectance   -9999   \n",
       "                  green            reflectance   -9999   \n",
       "                  red              reflectance   -9999   \n",
       "                  nir              reflectance   -9999   \n",
       "                  swir1            reflectance   -9999   \n",
       "                  swir2            reflectance   -9999   \n",
       "                  pixel_qa           bit_index       1   \n",
       "                  sr_aerosol         bit_index       0   \n",
       "                  radsat_qa          bit_index       1   \n",
       "\n",
       "                                                                aliases  \n",
       "product           measurement                                            \n",
       "ls8_usgs_sr_scene coastal_aerosol                    [band_1, sr_band1]  \n",
       "                  blue                               [band_2, sr_band2]  \n",
       "                  green                              [band_3, sr_band3]  \n",
       "                  red                                [band_4, sr_band4]  \n",
       "                  nir                                [band_5, sr_band5]  \n",
       "                  swir1                              [band_6, sr_band6]  \n",
       "                  swir2                              [band_7, sr_band7]  \n",
       "                  pixel_qa                                   [pixel_qa]  \n",
       "                  sr_aerosol       [sr_aerosol_qa, aerosol_qa, aerosol]  \n",
       "                  radsat_qa                                 [radsat_qa]  "
      ]
     },
     "execution_count": 12,
     "metadata": {},
     "output_type": "execute_result"
    }
   ],
   "source": [
    "measurements[display_columns].loc[product_list]"
   ]
  },
  {
   "cell_type": "markdown",
   "metadata": {},
   "source": [
    "# Run this cell to create a button to show/hide error messages"
   ]
  },
  {
   "cell_type": "code",
   "execution_count": 13,
   "metadata": {},
   "outputs": [
    {
     "data": {
      "text/html": [
       "<script>\n",
       "code_show_err=false; \n",
       "function code_toggle_err() {\n",
       " if (code_show_err){\n",
       " $('div.output_error').hide();\n",
       " $('div.output_stderr').hide();\n",
       " } else {\n",
       " $('div.output_error').show();\n",
       " $('div.output_stderr').show();\n",
       " }\n",
       " code_show_err = !code_show_err\n",
       "} \n",
       "$( document ).ready(code_toggle_err);\n",
       "</script>\n",
       "<form action=\"javascript:code_toggle_err()\"><input type=\"submit\" value=\"Click here to toggle on/off the error output.\"></form>"
      ],
      "text/plain": [
       "<IPython.core.display.HTML object>"
      ]
     },
     "execution_count": 13,
     "metadata": {},
     "output_type": "execute_result"
    }
   ],
   "source": [
    "from IPython.display import HTML\n",
    "\n",
    "HTML('''<script>\n",
    "code_show_err=false; \n",
    "function code_toggle_err() {\n",
    " if (code_show_err){\n",
    " $('div.output_error').hide();\n",
    " $('div.output_stderr').hide();\n",
    " } else {\n",
    " $('div.output_error').show();\n",
    " $('div.output_stderr').show();\n",
    " }\n",
    " code_show_err = !code_show_err\n",
    "} \n",
    "$( document ).ready(code_toggle_err);\n",
    "</script>\n",
    "<form action=\"javascript:code_toggle_err()\"><input type=\"submit\" value=\"Click here to toggle on/off the error output.\"></form>''')\n"
   ]
  }
 ],
 "metadata": {
  "kernelspec": {
   "display_name": "Python 3",
   "language": "python",
   "name": "python3"
  },
  "language_info": {
   "codemirror_mode": {
    "name": "ipython",
    "version": 3
   },
   "file_extension": ".py",
   "mimetype": "text/x-python",
   "name": "python",
   "nbconvert_exporter": "python",
   "pygments_lexer": "ipython3",
   "version": "3.6.7"
  },
  "toc": {
   "base_numbering": 1,
   "nav_menu": {},
   "number_sections": true,
   "sideBar": true,
   "skip_h1_title": false,
   "title_cell": "Table of Contents",
   "title_sidebar": "Contents",
   "toc_cell": false,
   "toc_position": {},
   "toc_section_display": true,
   "toc_window_display": false
  }
 },
 "nbformat": 4,
 "nbformat_minor": 2
}
